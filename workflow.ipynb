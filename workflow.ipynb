{
 "cells": [
  {
   "cell_type": "code",
   "execution_count": null,
   "metadata": {},
   "outputs": [],
   "source": [
    "import os\n",
    "import sys\n",
    "import subprocess\n",
    "\n",
    "def getMinIdx(filename):\n",
    "    x = np.load(filename)\n",
    "    xErr = x[0, :, :, 0, 0, 5]\n",
    "    xMin = np.argmin(xErr)\n",
    "    nCol = x.shape[2]\n",
    "    pos = (xMin/nCol, xMin%nCol)\n",
    "    \n",
    "    # Output width, sigma\n",
    "    return (x[0, pos[0], pos[1], 0, 0, 1],\n",
    "            x[0, pos[0], pos[1], 0, 0, 2])\n",
    "\n",
    "sampleSizes = ['1000', '10000']\n",
    "sampleNames = ['1k', '10k']\n",
    "properties = ['Energy_per_Si', 'volume']\n",
    "propertyNames = ['Energy', 'Volume']\n",
    "cutoffs = ['3.5', '6.0']\n",
    "kernels = ['gaussian', 'linear']\n",
    "kernelNames = ['Gaussian', 'Linear']\n",
    "hypers = {}"
   ]
  },
  {
   "cell_type": "markdown",
   "metadata": {},
   "source": [
    "# Sort ring files"
   ]
  },
  {
   "cell_type": "code",
   "execution_count": null,
   "metadata": {},
   "outputs": [],
   "source": [
    "files = ['King_Binary', 'King_Distribution',\n",
    "        'Short_Binary', 'Short_Distribution']\n",
    "\n",
    "for ss in sampleSizes:\n",
    "    for f in files:\n",
    "        inFile = '../Raw_Data/DEEM_%s_Rings_%s.xyz' % (ss, f)\n",
    "        outFile = '../Raw_Data/DEEM_%s_Rings_%s_Sorted.xyz' % (ss, f)\n",
    "        subprocess.call(['python', 'sort_rings.py',\n",
    "                        '-input', inFile,\n",
    "                        '-output', outFile])"
   ]
  },
  {
   "cell_type": "markdown",
   "metadata": {},
   "source": [
    "# Make k-Folds"
   ]
  },
  {
   "cell_type": "code",
   "execution_count": null,
   "metadata": {},
   "outputs": [],
   "source": [
    "for ss, sn in zip(sampleSizes, sampleNames):\n",
    "    workDir = '../Processed_Data/DEEM_%s' % sn\n",
    "    subprocess.call(['python', 'kFolds.py',\n",
    "                    '-nt', ss,\n",
    "                    '-f', '1.0',\n",
    "                    '-k', '5',\n",
    "                    '-output', workDir])"
   ]
  },
  {
   "cell_type": "markdown",
   "metadata": {},
   "source": [
    "# Compute SOAP vectors"
   ]
  },
  {
   "cell_type": "markdown",
   "metadata": {},
   "source": [
    "## Compute all SOAP vectors (1k only)"
   ]
  },
  {
   "cell_type": "code",
   "execution_count": null,
   "metadata": {},
   "outputs": [],
   "source": [
    "for c in cutoffs:\n",
    "    structureFile = '../Raw_Data/DEEM_1000.xyz'\n",
    "    workDir = '../Processed_Data/DEEM_1k/PCA/%s' % c\n",
    "        \n",
    "    # Compute full SOAP vectors\n",
    "    subprocess.call(['python', 'SOAP.py',\n",
    "                    '-structure', structureFile,\n",
    "                    '-n', '12',\n",
    "                    '-l', '9',\n",
    "                    '-c', '3.5',\n",
    "                    '-cw', '0.3',\n",
    "                    '-g', '0.3',\n",
    "                    '-Z', '14',\n",
    "                    '-z', '14', '8',\n",
    "                    '-output', workDir])\n",
    "\n",
    "    # Select FPS components\n",
    "    subprocess.call(['python', 'FPS.py',\n",
    "                    '-soap', '%s/SOAPFiles.dat' % workDir,\n",
    "                    '-fps', '500',\n",
    "                    '-c',\n",
    "                    '-output', workDir])\n",
    "    \n",
    "    # Recompute SOAPs, retain only the FPS components\n",
    "    subprocess.call(['python', 'SOAP.py',\n",
    "                    '-structure', structureFile,\n",
    "                    '-n', '12',\n",
    "                    '-l', '9',\n",
    "                    '-c', '3.5',\n",
    "                    '-cw', '0.3',\n",
    "                    '-g', '0.3',\n",
    "                    '-Z', '14',\n",
    "                    '-z', '14', '8',\n",
    "                    '-idxs', '%s/FPS-c.idxs' % workDir,\n",
    "                    '-output', workDir])\n",
    "\n",
    "    # Select representative environments\n",
    "    subprocess.call(['python', 'FPS.py',\n",
    "                    '-soap', 'SOAPFiles.dat',\n",
    "                    '-fps', '2000',\n",
    "                    '-output', workDir])"
   ]
  },
  {
   "cell_type": "markdown",
   "metadata": {},
   "source": [
    "## Compute SOAP vectors (10k only)"
   ]
  },
  {
   "cell_type": "code",
   "execution_count": null,
   "metadata": {},
   "outputs": [],
   "source": [
    "for c in cutoffs:\n",
    "    structureFile = '../Raw_Data/DEEM_10000.xyz'\n",
    "    workDir = '../Processed_Data/DEEM_10k/PCA/%s' % c\n",
    "    \n",
    "    # Select random structures\n",
    "    subprocess.call(['python', 'randomStructureSelect.py',\n",
    "                    '-structure', structureFile,\n",
    "                    '-nt', '10000',\n",
    "                    '-nr', '2000',\n",
    "                    '-output', workDir])\n",
    "\n",
    "    # Compute SOAP vectors for random structures\n",
    "    subprocess.call(['python', 'SOAP.py',\n",
    "                    '-structure', '%s/randomSelection.xyz' % workDir,\n",
    "                    '-n', '12',\n",
    "                    '-l', '9',\n",
    "                    '-c', '3.5',\n",
    "                    '-cw', '0.3',\n",
    "                    '-g', '0.3',\n",
    "                    '-Z', '14',\n",
    "                    '-z', '14', '8',\n",
    "                    '-output', workDir])\n",
    "\n",
    "    # Select FPS components\n",
    "    subprocess.call(['python', 'FPS.py',\n",
    "                    '-soap', 'SOAPFiles.dat',\n",
    "                    '-fps', '500',\n",
    "                    '-c',\n",
    "                    '-output', workDir])\n",
    "\n",
    "    # Re-compute SOAPs, retain only FPS components\n",
    "    subprocess.call(['python', 'SOAP.py',\n",
    "                    '-structure', structureFile,\n",
    "                    '-n', '12',\n",
    "                    '-l', '9',\n",
    "                    '-c', '3.5',\n",
    "                    '-cw', '0.3',\n",
    "                     '-g', '0.3',\n",
    "                    '-Z', '14',\n",
    "                    '-z', '14', '8',\n",
    "                    '-idxs', 'FPS-c.idxs',\n",
    "                    '-output', workDir])\n",
    "\n",
    "    # Select representative environments\n",
    "    subprocess.call(['python', 'FPS.py',\n",
    "                    '-soap', 'SOAPFiles.dat',\n",
    "                    '-fps', '2000',\n",
    "                    '-output', workDir])"
   ]
  },
  {
   "cell_type": "markdown",
   "metadata": {},
   "source": [
    "## Hyperparameter optimization"
   ]
  },
  {
   "cell_type": "code",
   "execution_count": null,
   "metadata": {},
   "outputs": [],
   "source": [
    "for ss, sn in zip(sampleSizes, sampleNames):\n",
    "    for c in cutoffs:\n",
    "        for p, pn in zip(properties, propertyNames):\n",
    "            for k, kn in zip(kernels, kernelNames):\n",
    "                workDir = '../Processed_Data/DEEM_%s/%s/%s/ParameterSearch/%s' % (sn, pn, c, kn)\n",
    "                dataDir = '../Processed_Data/DEEM_%s/PCA/%s' % (sn, c)\n",
    "                foldDir = '../Processed_Data/DEEM_%s' % sn\n",
    "                structureFile = '../Raw_Data/DEEM_%s.xyz' % ss\n",
    "                dictKey = '%s-SOAP%s-%s-%s' % (sn, c, pn[0], kn[0])\n",
    "\n",
    "                subprocess.call(['python', 'learningCurves.py',\n",
    "                                '-structure', structureFile,\n",
    "                                '-soap', '%s/SOAPFiles.dat' % dataDir,\n",
    "                                '-idxs', '%s/FPS-rSOAP.idxs' % dataDir\n",
    "                                '-p', p,\n",
    "                                '-Z', '14',\n",
    "                                '-k', '5',\n",
    "                                '-kernel', k,\n",
    "                                '-width', '0.001', '0.003', '0.01', '0.03', \n",
    "                                          '0.1', '0.3', '1.0', '3.0', '10.0',\n",
    "                                '-sigma', '0.001', '0.003', '0.01', '0.03', \n",
    "                                          '0.1', '0.3', '1.0', '3.0', '10.0',\n",
    "                                '-zeta', '1',\n",
    "                                '-ntrain', '8000',\n",
    "                                '-train', '%s/kTrain.idxs' % foldDir,\n",
    "                                '-validate', '%s/kValidate.idxs' % foldDir,\n",
    "                                '-shuffle',\n",
    "                                '-output', workDir])\n",
    "                hypers[dictKey][0], hypers[dictKey][1] = getMinIdx('%s/maeAvgTest.npy' % workDir)"
   ]
  },
  {
   "cell_type": "markdown",
   "metadata": {},
   "source": [
    "# Build PCA"
   ]
  },
  {
   "cell_type": "markdown",
   "metadata": {},
   "source": [
    "## Build linear PCA"
   ]
  },
  {
   "cell_type": "code",
   "execution_count": null,
   "metadata": {},
   "outputs": [],
   "source": [
    "for ss, sn in zip(sampleSizes, sampleNames):\n",
    "    for c in cutoffs:\n",
    "        dataDir = '../Processed_Data/DEEM_%s/PCA/%s' % (sn, c)\n",
    "        \n",
    "        subprocess.call(['python', 'SOAP-PCA.py',\n",
    "                        '-soap', '%s/SOAPFiles.dat' % dataDir,\n",
    "                        '-dopca',\n",
    "                        '-pca', '500',\n",
    "                        '-output', dataDir])\n",
    "\n",
    "        subprocess.call(['python', 'SOAP-PCA.py',\n",
    "                        '-soap', '%s/SOAPFiles.dat' % dataDir,\n",
    "                        '-dotransform',\n",
    "                        '-w', '%s/eigenvectors.dat' % dataDir,\n",
    "                        '-mean', '%s/mean.dat' % dataDir,\n",
    "                        '-output', dataDir])\n",
    "\n",
    "        subprocess.call(['python', 'FPS.py',\n",
    "                        '-soap', '%s/PCAFiles.dat' % dataDir,\n",
    "                        '-fps', '2000',\n",
    "                        '-output', dataDir])"
   ]
  },
  {
   "cell_type": "markdown",
   "metadata": {},
   "source": [
    "## Build KPCA"
   ]
  },
  {
   "cell_type": "code",
   "execution_count": null,
   "metadata": {},
   "outputs": [],
   "source": [
    "for ss, sn in zip(sampleSizes, sampleNames):\n",
    "    for c in cutoffs:\n",
    "        dataDir = '../Processed_Data/DEEM_%s/PCA/%s' % (sn, c)\n",
    "        \n",
    "        subprocess.call(['python', 'centerData.py',\n",
    "                        '-soap', '%s/SOAPFiles.dat' % dataDir])\n",
    "\n",
    "        subprocess.call(['python', 'SOAP-KPCA.py',\n",
    "                        '-soap', '%s/SOAPFiles-centered.dat' % dataDir,\n",
    "                        '-pca', '500',\n",
    "                        '-kernel', 'gaussian',\n",
    "                        '-width', '1.0', # optimal from SOAP kernel hyperparameter search\n",
    "                        '-lowmem',\n",
    "                        '-idxs', '%s/FPS-rSOAP.idxs' % dataDir])\n",
    "\n",
    "        subprocess.call(['python', 'FPS.py',\n",
    "                        '-soap', '%s/KPCAFiles.dat' % dataDir,\n",
    "                        '-fps', '2000',\n",
    "                        '-output', dataDir])"
   ]
  },
  {
   "cell_type": "markdown",
   "metadata": {},
   "source": [
    "# Build classical descriptors"
   ]
  },
  {
   "cell_type": "markdown",
   "metadata": {},
   "source": [
    "## Distances"
   ]
  },
  {
   "cell_type": "code",
   "execution_count": null,
   "metadata": {},
   "outputs": [],
   "source": [
    "for ss, sn in zip(sampleSizes, sampleNames):\n",
    "    dataDir = '../Processed_Data/DEEM_%s/Distances' % sn\n",
    "    structureFile = '../Raw_Data/DEEM_%s_Distances.xyz' % ss\n",
    "    \n",
    "    subprocess.call(['python', 'buildClassicalDescriptors.py',\n",
    "                    '-input', structureFile,\n",
    "                    '-output', '%s/distances.dat' % dataDir,\n",
    "                    '-p', 'distances'])"
   ]
  },
  {
   "cell_type": "markdown",
   "metadata": {},
   "source": [
    "## Angles"
   ]
  },
  {
   "cell_type": "code",
   "execution_count": null,
   "metadata": {},
   "outputs": [],
   "source": [
    "for ss, sn in zip(sampleSizes, sampleNames):\n",
    "    dataDir = '../Processed_Data/DEEM_%s/Angles' % sn\n",
    "    structureFile = '../Raw_Data/DEEM_%s_Angles.xyz' % ss\n",
    "    \n",
    "    subprocess.call(['python', 'buildClassicalDescriptors.py',\n",
    "                    '-input', structureFile,\n",
    "                    '-output', '%s/angles.dat' % dataDir,\n",
    "                    '-p', 'angles'])"
   ]
  },
  {
   "cell_type": "markdown",
   "metadata": {},
   "source": [
    "## Rings"
   ]
  },
  {
   "cell_type": "code",
   "execution_count": null,
   "metadata": {},
   "outputs": [],
   "source": [
    "for ss, sn in zip(sampleSizes, sampleNames):\n",
    "    for ks in ['King', 'Short']:\n",
    "        for bd in ['Binary', 'Distribution']:\n",
    "            dataDir = '../Processed_Data/DEEM_%s/Rings/%s/%s' % (sn, ks, bd)\n",
    "            structureFile = '../Raw_Data/DEEM_%s_Rings_%s_%s_Sorted.xyz' % (ss, ks, bd)\n",
    "            \n",
    "            subprocess.call(['python', 'buildClassicalDescriptors.py',\n",
    "                            '-input', structureFile,\n",
    "                            '-output', '%s/rings.dat' % dataDir,\n",
    "                            '-p', 'rings'])"
   ]
  },
  {
   "cell_type": "markdown",
   "metadata": {},
   "source": [
    "# Hyperparameter Optimization"
   ]
  },
  {
   "cell_type": "markdown",
   "metadata": {},
   "source": [
    "## PCA"
   ]
  },
  {
   "cell_type": "code",
   "execution_count": null,
   "metadata": {},
   "outputs": [],
   "source": [
    "for ss, sn in zip(sampleSizes, sampleNames):\n",
    "    for c in cutoffs:\n",
    "        for p, pn in zip(properties, propertyNames):\n",
    "            for k, kn in zip(kernels, kernelNames):\n",
    "                workDir = '../Processed_Data/DEEM_%s/%s/%s/PCALearn/ParameterSearch/%s' % (sn, pn, c, kn)\n",
    "                structureFile = '../Raw_Data/DEEM_%s.xyz' % ss\n",
    "                dataFile = '../Processed_Data/DEEM_%s/PCA/%s/PCAFiles.dat' % (sn, c)\n",
    "                idxsFile = '../Processed_Data/DEEM_%s/PCA/%s/FPS-rPCA.idxs' % (sn, c)\n",
    "                trainFile = '../Processed_Data/DEEM_%s/kTrain.idxs' % sn\n",
    "                validateFile = '../Processed_Data/DEEM_%s/kValidate.idxs' % sn\n",
    "                dictKey = '%s-PCA%s-%s-%s' % (sn, c, pn[0], kn[0])\n",
    "\n",
    "                subprocess.call(['python', 'learningCurves.py',\n",
    "                                '-structure', structureFile,\n",
    "                                '-soap', dataFile,\n",
    "                                '-idxs', idxsFile,\n",
    "                                '-p', p,\n",
    "                                '-Z', '14',\n",
    "                                '-k', '5',\n",
    "                                '-kernel', k,\n",
    "                                '-width', '0.001', '0.003', '0.01', '0.03', \n",
    "                                          '0.1', '0.3', '1.0', '3.0', '10.0',\n",
    "                                '-sigma', '0.001', '0.003', '0.01', '0.03', \n",
    "                                          '0.1', '0.3', '1.0', '3.0', '10.0', \n",
    "                                '-zeta', '1',\n",
    "                                '-ntrain', '8000',\n",
    "                                '-train', trainFile,\n",
    "                                '-validate', validateFile,\n",
    "                                '-shuffle',\n",
    "                                '-output', workDir])\n",
    "                hypers[dictKey][0], hypers[dictKey][1] = getMinIdx('%s/maeAvgTest.npy' % workDir)"
   ]
  },
  {
   "cell_type": "markdown",
   "metadata": {},
   "source": [
    "## KPCA"
   ]
  },
  {
   "cell_type": "code",
   "execution_count": null,
   "metadata": {},
   "outputs": [],
   "source": [
    "for ss, sn in zip(sampleSizes, sampleNames):\n",
    "    for c in cutoffs:\n",
    "        for p, pn in zip(properties, propertyNames):\n",
    "            for k, kn in zip(kernels, kernelNames):\n",
    "                workDir = '../Processed_Data/DEEM_%s/%s/%s/KPCALearn/ParameterSearch/%s' % (sn, pn, c, kn)\n",
    "                structureFile = '../Raw_Data/DEEM_%s.xyz' % ss\n",
    "                dataFile = '../Processed_Data/DEEM_%s/PCA/%s/KPCAFiles.dat' % (sn, c)\n",
    "                idxsFile = '../Processed_Data/DEEM_%s/PCA/%s/FPS-rKPCA.idxs' % (sn, c)\n",
    "                trainFile = '../Processed_Data/DEEM_%s/kTrain.idxs' % sn\n",
    "                validateFile = '../Processed_Data/DEEM_%s/kValidate.idxs' % sn\n",
    "                dictKey = '%s-KPCA%s-%s-%s' % (sn, c, pn[0], kn[0])\n",
    "\n",
    "                subprocess.call(['python', 'learningCurves.py',\n",
    "                                '-structure', structureFile,\n",
    "                                '-soap', dataFile,\n",
    "                                '-idxs', idxsFile,\n",
    "                                '-p', p,\n",
    "                                '-Z', '14',\n",
    "                                '-k', '5',\n",
    "                                '-kernel', 'gaussian',\n",
    "                                '-width', '0.001', '0.003', '0.01', '0.03', \n",
    "                                          '0.1', '0.3', '1.0', '3.0', '10.0',\n",
    "                                '-sigma', '0.001', '0.003', '0.01', '0.03', \n",
    "                                          '0.1', '0.3', '1.0', '3.0', '10.0',\n",
    "                                '-zeta', '1', \n",
    "                                '-ntrain', '8000',\n",
    "                                '-train', trainFile,\n",
    "                                '-validate', validateFile,\n",
    "                                '-shuffle',\n",
    "                                '-output', workDir])\n",
    "                hypers[dictKey][0], hypers[dictKey][1] = getMinIdx('%s/maeAvgTest.npy' % workDir) "
   ]
  },
  {
   "cell_type": "markdown",
   "metadata": {},
   "source": [
    "## Distances"
   ]
  },
  {
   "cell_type": "code",
   "execution_count": null,
   "metadata": {},
   "outputs": [],
   "source": [
    "for ss, sn in zip(sampleSizes, sampleNames):\n",
    "    for p, pn in zip(properties, propertyNames):\n",
    "        for k, kn in zip(kernels, kernelNames):\n",
    "            workDir = '../Processed_Data/DEEM_%s/%s/Distances/ParameterSearch/%s' % (sn, pn, kn)\n",
    "            structureFile = '../Raw_Data/DEEM_%s.xyz' % ss\n",
    "            soapFile = '../Processed_Data/DEEM_%s/Distances/distanceFiles.dat' % sn\n",
    "            idxsFile = '../Processed_Data/DEEM_%s/Distances/FPS-rDistances.idxs' % sn\n",
    "            trainFile = '../Processed_Data/DEEM_%s/kTrain.idxs' % sn\n",
    "            validateFile = '../Processed_Data/DEEM_%s/kValidate.idxs' % sn\n",
    "            dictKey = '%s-Dist-%s-%s' % (sn, pn[0], kn[0])\n",
    "\n",
    "            subprocess.call(['python', 'learningCurves.py',\n",
    "                            '-structure', structureFile,\n",
    "                            '-soap', soapFile,\n",
    "                            '-idxs', idxsFile,\n",
    "                            '-p', p,\n",
    "                            '-Z', '14',\n",
    "                            '-k', '5',\n",
    "                            '-kernel', k,\n",
    "                            '-width', '0.001', '0.003', '0.01', '0.03', \n",
    "                                      '0.1', '0.3', '1.0',\n",
    "                            '-sigma', '0.001', '0.003', '0.01', '0.03', \n",
    "                                      '0.1', '0.3', '1.0',\n",
    "                            '-zeta', '1',\n",
    "                            '-ntrain', '8000',\n",
    "                            '-train', trainFile,\n",
    "                            '-validate', validateFile,\n",
    "                            '-shuffle',\n",
    "                            '-output', workDir])\n",
    "            hypers[dictKey][0], hypers[dictKey][1] = getMinIdx('%s/maeAvgTest.npy' % workDir)"
   ]
  },
  {
   "cell_type": "markdown",
   "metadata": {},
   "source": [
    "## Angles"
   ]
  },
  {
   "cell_type": "code",
   "execution_count": null,
   "metadata": {},
   "outputs": [],
   "source": [
    "for ss, sn in zip(sampleSizes, sampleNames):\n",
    "    for p, pn in zip(properties, propertyNames):\n",
    "        for k, kn in zip(kernels, kernelNames):\n",
    "            workDir = '../Processed_Data/DEEM_%s/%s/Angles/ParameterSearch/%s' % (sn, pn, kn)\n",
    "            structureFile = '../Raw_Data/DEEM_%s.xyz' % ss\n",
    "            dataFile = '../Processed_Data/DEEM_%s/Angles/angleFiles.dat' % sn\n",
    "            idxsFile = '../Processed_Data/DEEM_%s/Angles/FPS-rAngles.idxs' % sn\n",
    "            trainFile = '../Processed_Data/DEEM_%s/kTrain.idxs' % sn\n",
    "            validateFile = '../Processed_Data/DEEM_%s/kValidate.idxs' % sn\n",
    "            dictKey = '%s-Ang-%s-%s' % (sn, pn[0], kn[0])\n",
    "\n",
    "            subprocess.call(['python', 'learningCurves.py',\n",
    "                            '-structure', structureFile,\n",
    "                            '-soap', dataFile,\n",
    "                            '-idxs', idxsFile,\n",
    "                            '-p', p,\n",
    "                            '-Z', '14',\n",
    "                            '-k', '5',\n",
    "                            '-kernel', k,\n",
    "                            '-width', '1.0', '3.0', '10.0', '30.0', \n",
    "                                      '100.0', '300.0', '1000.0',\n",
    "                            '-sigma', '0.001', '0.003', '0.01', '0.03', \n",
    "                                      '0.1', '0.3', '1.0',\n",
    "                            '-zeta', '1',\n",
    "                            '-ntrain', '8000',\n",
    "                            '-train', trainFile,\n",
    "                            '-validate', validateFile,\n",
    "                            '-shuffle',\n",
    "                            '-output', workDir])\n",
    "            hypers[dictKey][0], hypers[dictKey][1] = getMinIdx('%s/maeAvgTest.npy' % workDir) "
   ]
  },
  {
   "cell_type": "markdown",
   "metadata": {},
   "source": [
    "## Rings"
   ]
  },
  {
   "cell_type": "code",
   "execution_count": null,
   "metadata": {},
   "outputs": [],
   "source": [
    "for ss, sn in zip(sampleSizes, sampleNames):\n",
    "    for p, pn in zip(properties, propertyNames):\n",
    "        for ks in ['King', 'Short']:\n",
    "            for bd in ['Binary', 'Distribution']:\n",
    "                for k, kn in zip(kernels, kernelNames):\n",
    "                    workDir = '../Processed_Data/DEEM_%s/%s/Rings/%s/%s/ParameterSearch/%s' % (sn, pn, ks, bd, kn)\n",
    "                    structureFile = '../Raw_Data/DEEM_%s.xyz' % ss\n",
    "                    dataFile = '../Processed_Data/DEEM_%s/Rings/%s/%s/ringFiles.dat' % (sn, ks, bd)\n",
    "                    idxsFile = '../Processed_Data/DEEM_%s/Rings/%s/%s/FPS-rRings.idxs' % (sn, ks, bd)\n",
    "                    trainFile = '../Processed_Data/DEEM_%s/kTrain.idxs' % sn\n",
    "                    validateFile = '../Processed_Data/DEEM_%s/kValidate.idxs' % sn\n",
    "                    dictKey = '%s-%s%s-%s-%s' % (sn, ks, bd[0], pn[0], kn[0])\n",
    "\n",
    "                    subprocess.call(['python', 'learningCurves.py',\n",
    "                                    '-structure', structureFile,\n",
    "                                    '-soap', dataFile,\n",
    "                                    '-idxs', idxsFile,\n",
    "                                    '-p', p,\n",
    "                                    '-Z', '14',\n",
    "                                    '-k', '5', \n",
    "                                    'kernel', k,\n",
    "                                    '-width', '1.0', '3.0', '10.0', '100.0', \n",
    "                                              '300.0', '1000.0',\n",
    "                                    '-sigma', '1E-5', '3E-5', '1E-4', '3E-4', \n",
    "                                              '0.001', '0.003', '0.01', '0.03', \n",
    "                                              '0.1', '0.3', '1.0',\n",
    "                                    '-zeta', '1',\n",
    "                                    '-ntrain', '8000',\n",
    "                                    '-train', trainFile,\n",
    "                                    '-validate', validateFile,\n",
    "                                    '-shuffle',\n",
    "                                    '-output', workDir])\n",
    "                    hypers[dictKey][0], hypers[dictKey][1] = getMinIdx('%s/maeAvgTest.npy' % workDir) "
   ]
  },
  {
   "cell_type": "markdown",
   "metadata": {},
   "source": [
    "# Dictionary of hyperparameters"
   ]
  },
  {
   "cell_type": "code",
   "execution_count": null,
   "metadata": {},
   "outputs": [],
   "source": [
    "# Manual definition (overwrite) of hyperparameters\n",
    "\n",
    "# Dictonary string has the format \"S-R-P-K\":\n",
    "# S = sample size, {1k, 10k}\n",
    "# R = representation, {SOAP3.5, SOAP6.0, PCA3.5, PCA6.0, KPCA3.5, KPCA6.0, \n",
    "#                      Dist, Ang, KingBin, KingDist, ShortBin, ShortDist}\n",
    "# P = property, {E, V}\n",
    "# K = kernel, {G, L}\n",
    "\n",
    "# Each element of the dictionary has the hypers [width, sigma]\n",
    "\n",
    "hypers = {'1k-SOAP3.5-V-G': [0.3, 0.03],\n",
    "         '1k-SOAP3.5-V-L':  [None, ],\n",
    "         '1k-SOAP3.5-E-G':  [0.3, 0.03],\n",
    "         '1k-SOAP3.5-E-L':  [None, ],\n",
    "         '1k-SOAP6.0-V-G':  [1.0, 0.03],\n",
    "         '1k-SOAP6.0-V-L':  [None, ],\n",
    "         '1k-SOAP6.0-E-G':  [3.0, 0.003],\n",
    "         '1k-SOAP6.0-E-L':  [None, ],\n",
    "         '1k-PCA3.5-V-G':   [, ],\n",
    "         '1k-PCA3.5-V-L':   [None, ],\n",
    "         '1k-PCA3.5-E-G':   [, ],\n",
    "         '1k-PCA3.5-E-L':   [None, ],\n",
    "         '1k-PCA6.0-V-G':   [, ],\n",
    "         '1k-PCA6.0-V-L':   [None, ],\n",
    "         '1k-PCA6.0-E-G':   [, ],\n",
    "         '1k-PCA6.0-E-L':   [None, ],\n",
    "         '1k-KPCA3.5-V-G':  [1.0, 0.03],\n",
    "         '1k-KPCA3.5-V-L':  [None, ],\n",
    "         '1k-KPCA3.5-E-G':  [3.0, 0.03],\n",
    "         '1k-KPCA3.5-E-L':  [None, ],\n",
    "         '1k-KPCA6.0-V-G':  [1.0, 0.03],\n",
    "         '1k-KPCA6.0-V-L':  [None, ],\n",
    "         '1k-KPCA6.0-E-G':  [3.0, 0.01],\n",
    "         '1k-KPCA6.0-E-L':  [None, ],\n",
    "         '1k-Dist-V-G':     [, ],\n",
    "         '1k-Dist-V-L':     [None, ],\n",
    "         '1k-Dist-E-G':     [, ],\n",
    "         '1k-Dist-E-L':     [None, ],\n",
    "         '1k-Ang-V-G':      [, ],\n",
    "         '1k-Ang-V-L':      [None, ],\n",
    "         '1k-Ang-E-G':      [, ],\n",
    "         '1k-Ang-E-L':      [None, ],\n",
    "         '1k-KingB-V-G':    [, ],\n",
    "         '1k-KingB-V-L':    [None, ],\n",
    "         '1k-KingB-E-G':    [, ],\n",
    "         '1k-KingB-E-L':    [None, ],\n",
    "         '1k-KingD-V-G':    [, ],\n",
    "         '1k-KingD-V-L':    [None, ],\n",
    "         '1k-KingD-E-G':    [, ],\n",
    "         '1k-KingD-E-L':    [None, ],\n",
    "         '1k-ShortB-V-G':   [, ],\n",
    "         '1k-ShortB-V-L':   [None, ],\n",
    "         '1k-ShortB-E-G':   [, ],\n",
    "         '1k-ShortB-E-L':   [None, ],\n",
    "         '1k-ShortD-V-G':   [, ],\n",
    "         '1k-ShortD-V-L':   [None, ],\n",
    "         '1k-ShortD-E-G':   [, ],\n",
    "         '1k-ShortD-E-L':   [None, ],\n",
    "         '10k-SOAP3.5-V-G': [, ],\n",
    "         '10k-SOAP3.5-V-L': [None, ],\n",
    "         '10k-SOAP3.5-E-G': [, ],\n",
    "         '10k-SOAP3.5-E-L': [None, ],\n",
    "         '10k-SOAP6.0-V-G': [, ],\n",
    "         '10k-SOAP6.0-V-L': [None, ],\n",
    "         '10k-SOAP6.0-E-G': [, ],\n",
    "         '10k-SOAP6.0-E-L': [None, ],\n",
    "         '10k-PCA3.5-V-G':  [, ],\n",
    "         '10k-PCA3.5-V-L':  [None, ],\n",
    "         '10k-PCA3.5-E-G':  [, ],\n",
    "         '10k-PCA3.5-E-L':  [None, ],\n",
    "         '10k-PCA6.0-V-G':  [, ],\n",
    "         '10k-PCA6.0-V-L':  [None, ],\n",
    "         '10k-PCA6.0-E-G':  [, ],\n",
    "         '10k-PCA6.0-E-L':  [None, ],\n",
    "         '10k-KPCA3.5-V-G': [1.0, 0.03],\n",
    "         '10k-KPCA3.5-V-L': [None, ],\n",
    "         '10k-KPCA3.5-E-G': [, ],\n",
    "         '10k-KPCA3.5-E-L': [None, ],\n",
    "         '10k-KPCA6.0-V-G': [, ],\n",
    "         '10k-KPCA6.0-V-L': [None, ],\n",
    "         '10k-KPCA6.0-E-G': [, ],\n",
    "         '10k-KPCA6.0-E-L': [None, ],\n",
    "         '10k-Dist-V-G':    [, ],\n",
    "         '10k-Dist-V-L':    [None, ],\n",
    "         '10k-Dist-E-G':    [, ],\n",
    "         '10k-Dist-E-L':    [None, ],\n",
    "         '10k-Ang-V-G':     [, ],\n",
    "         '10k-Ang-V-L':     [None, ],\n",
    "         '10k-Ang-E-G':     [, ],\n",
    "         '10k-Ang-E-L':     [None, ],\n",
    "         '10k-KingB-V-G':   [, ],\n",
    "         '10k-KingB-V-L':   [None, ],\n",
    "         '10k-KingB-E-G':   [, ],\n",
    "         '10k-KingB-E-L':   [None, ],\n",
    "         '10k-KingD-V-G':   [, ],\n",
    "         '10k-KingD-V-L':   [None, ],\n",
    "         '10k-KingD-E-G':   [, ],\n",
    "         '10k-KingD-E-L':   [None, ],\n",
    "         '10k-ShortB-V-G':  [, ],\n",
    "         '10k-ShortB-V-L':  [None, ],\n",
    "         '10k-ShortB-E-G':  [, ],\n",
    "         '10k-ShortB-E-L':  [None, ],\n",
    "         '10k-ShortD-V-G':  [, ],\n",
    "         '10k-ShortD-V-L':  [None, ],\n",
    "         '10k-ShortD-E-G':  [, ],\n",
    "         '10k-ShortD-E-L':  [None, ]}"
   ]
  },
  {
   "cell_type": "markdown",
   "metadata": {},
   "source": [
    "# Learning Curves"
   ]
  },
  {
   "cell_type": "markdown",
   "metadata": {},
   "source": [
    "## SOAP"
   ]
  },
  {
   "cell_type": "code",
   "execution_count": null,
   "metadata": {},
   "outputs": [],
   "source": [
    "for ss, sn in zip(sampleSizes, sampleNames):\n",
    "    for c in cutoffs:\n",
    "        for p, pn in zip(properties, propertyNames):\n",
    "            for k, kn in zip(kernels, kernelNames):\n",
    "                workDir = '../Processed_Data/DEEM_%s/%s/%s/%s/%s' % (sn, pn, c, kn)\n",
    "                structureFile = '../Raw_Data/DEEM_%s.xyz' % ss\n",
    "                dataFile = '../Processed_Data/DEEM_%s/PCA/%s/SOAPFiles.dat' % (sn, c)\n",
    "                idxsFile = '../Processed_Data/DEEM_%s/PCA/%s/FPS-rSOAP.idxs' % (sn, c)\n",
    "                trainFile = '../Processed_Data/DEEM_%s/kTrain.idxs' % sn\n",
    "                validateFile = '../Processed_Data/DEEM_%s/kValidate.idxs' % sn\n",
    "                dictKey = '%s-SOAP%s-%s-%s' % (sn, c, pn[0], kn[0])\n",
    "\n",
    "                subprocess.call(['python', 'learningCurves.py',\n",
    "                                '-structure', structureFile,\n",
    "                                '-soap', dataFile,\n",
    "                                '-idxs', idxsFile,\n",
    "                                '-p', p,\n",
    "                                '-Z', '14',\n",
    "                                '-k', '5',\n",
    "                                '-kernel', k,\n",
    "                                '-width', str(hypers[dictKey][0]),\n",
    "                                '-sigma', str(hypers[dictKey][1]),\n",
    "                                '-zeta', '1',\n",
    "                                '-ntrain', '10', '30', '50', '100', '300', '500', \n",
    "                                           '1000', '3000', '5000', '8000',\n",
    "                                '-train', trainFile,\n",
    "                                '-validate', validateFile,\n",
    "                                '-shuffle',\n",
    "                                '-output', workDir])"
   ]
  },
  {
   "cell_type": "markdown",
   "metadata": {},
   "source": [
    "## PCA"
   ]
  },
  {
   "cell_type": "code",
   "execution_count": null,
   "metadata": {},
   "outputs": [],
   "source": [
    "for ss, sn in zip(sampleSizes, sampleNames):\n",
    "    for c in cutoffs:\n",
    "        for p, pn in zip(properties, propertyNames):\n",
    "            for k, kn in zip(kernels, kernelNames):\n",
    "                workDir = '../Processed_Data/DEEM_%s/%s/%s/%s/PCALearn/%s' % (sn, pn, c, kn)\n",
    "                structureFile = '../Raw_Data/DEEM_%s.xyz' % ss\n",
    "                dataFile = '../Processed_Data/DEEM_%s/PCA/%s/PCAFiles.dat' % (sn, c)\n",
    "                idxsFile = '../Processed_Data/DEEM_%s/PCA/%s/FPS-rPCA.idxs' % (sn, c)\n",
    "                trainFile = '../Processed_Data/DEEM_%s/kTrain.idxs' % sn\n",
    "                validateFile = '../Processed_Data/DEEM_%s/kValidate.idxs' % sn\n",
    "                dictKey = '%s-PCA%s-%s-%s' % (sn, c, pn[0], kn[0])\n",
    "\n",
    "                subprocess.call(['python', 'learningCurves.py',\n",
    "                                '-structure', structureFile,\n",
    "                                '-soap', dataFile,\n",
    "                                '-idxs', idxsFile,\n",
    "                                '-p', 'volume',\n",
    "                                '-Z', '14',\n",
    "                                '-k', '5',\n",
    "                                '-kernel', k,\n",
    "                                '-width', str(hypers[dictKey][0]),\n",
    "                                '-sigma', str(hypers[dictKey][1]),\n",
    "                                '-zeta', '1',\n",
    "                                '-ntrain', '10', '30', '50', '100', '300', '500', \n",
    "                                           '1000', '3000', '5000', '8000',\n",
    "                                '-train', trainFile,\n",
    "                                '-validate', validateFile,\n",
    "                                '-shuffle',\n",
    "                                '-output', workDir])"
   ]
  },
  {
   "cell_type": "markdown",
   "metadata": {},
   "source": [
    "## KPCA"
   ]
  },
  {
   "cell_type": "code",
   "execution_count": null,
   "metadata": {},
   "outputs": [],
   "source": [
    "for ss, sn in zip(sampleSizes, sampleNames):\n",
    "    for c in cutoffs:\n",
    "        for p, pn in zip(properties, propertyNames):\n",
    "            for k, kn in zip(kernels, kernelNames):\n",
    "                workDir = '../Processed_Data/DEEM_%s/%s/%s/%s/KPCALearn/%s' % (sn, pn, c, kn)\n",
    "                structureFile = '../Raw_Data/DEEM_%s.xyz' % ss\n",
    "                dataFile = '../Processed_Data/DEEM_%s/PCA/%s/KPCAFiles.dat' % (sn, c)\n",
    "                idxsFile = '../Processed_Data/DEEM_%s/PCA/%s/FPS-rKPCA.idxs' % (sn, c)\n",
    "                trainFile = '../Processed_Data/DEEM_%s/kTrain.idxs' % sn\n",
    "                validateFile = '../Processed_Data/DEEM_%s/kValidate.idxs' % sn\n",
    "                dictKey = '%s-KPCA%s-%s-%s' % (sn, c, pn[0], kn[0])\n",
    "\n",
    "                subprocess.call(['python', 'learningCurves.py',\n",
    "                                '-structure', structureFile,\n",
    "                                '-soap', dataFile,\n",
    "                                '-idxs', idxsFile,\n",
    "                                '-p', 'volume',\n",
    "                                '-Z', '14',\n",
    "                                '-k', '5',\n",
    "                                '-kernel', k,\n",
    "                                '-width', str(hypers[dictKey][0]),\n",
    "                                '-sigma', str(hypers[dictKey][1]),\n",
    "                                '-zeta', '1',\n",
    "                                '-ntrain', '10', '30', '50', '100', '300', '500', \n",
    "                                           '1000', '3000', '5000', '8000',\n",
    "                                '-train', trainFile,\n",
    "                                '-validate', validateFile,\n",
    "                                '-shuffle',\n",
    "                                '-output', workDir])"
   ]
  },
  {
   "cell_type": "markdown",
   "metadata": {},
   "source": [
    "## Distances"
   ]
  },
  {
   "cell_type": "code",
   "execution_count": null,
   "metadata": {},
   "outputs": [],
   "source": [
    "for ss, sn in zip(sampleSizes, sampleNames):\n",
    "    for p, pn in zip(properties, propertyNames):\n",
    "        for k, kn in zip(kernels, kernelNames):\n",
    "            workDir = '../Processed_Data/DEEM_%s/%s/Distances/%s' % (sn, pn, kn)\n",
    "            structureFile = '../Raw_Data/DEEM_%s.xyz' % ss\n",
    "            dataFile = '../Processed_Data/DEEM_%s/Distances/distanceFiles.dat' % sn\n",
    "            idxsFile = '../Processed_Data/DEEM_%s/Distances/FPS-rDistances.idxs' % sn\n",
    "            trainFile = '../Processed_Data/DEEM_%s/kTrain.idxs' % sn\n",
    "            validateFile = '../Processed_Data/DEEM_%s/kValidate.idxs' % sn\n",
    "            dictKey = '%s-Dist-%s-%s' % (sn, pn[0], kn[0])\n",
    "\n",
    "            subprocess.call(['python', 'learningCurves.py',\n",
    "                            '-structure', structureFile,\n",
    "                            '-soap', dataFile,\n",
    "                            '-idxs', idxsFile,\n",
    "                            '-p', p,\n",
    "                            '-Z', '14',\n",
    "                            '-k', '5',\n",
    "                            '-kernel', k,\n",
    "                            '-width', str(hypers[dictKey][0]),\n",
    "                            '-sigma', str(hypers[dictKey][1]),\n",
    "                            '-zeta', '1',\n",
    "                            '-ntrain', '10', '30', '50', '100', '300', '500', \n",
    "                                       '1000', '3000', '5000', '8000',\n",
    "                            '-train', trainFile,\n",
    "                            '-validate', validateFile,\n",
    "                            '-shuffle',\n",
    "                            '-output', workDir])"
   ]
  },
  {
   "cell_type": "markdown",
   "metadata": {},
   "source": [
    "## Angles"
   ]
  },
  {
   "cell_type": "code",
   "execution_count": null,
   "metadata": {},
   "outputs": [],
   "source": [
    "for ss, sn in zip(sampleSizes, sampleNames):\n",
    "    for p, pn in zip(properties, propertyNames):\n",
    "        for k, kn in zip(kernels, kernelNames):\n",
    "            workDir = '../Processed_Data/DEEM_%s/%s/Angles/%s' % (sn, pn, kn)\n",
    "            structureFile = '../Raw_Data/DEEM_%s.xyz' % ss\n",
    "            dataFile = '../Processed_Data/DEEM_%s/Angles/angleFiles.dat' % sn\n",
    "            idxsFile = '../Processed_Data/DEEM_%s/Angles/FPS-rAngles.idxs' % sn\n",
    "            trainFile = '../Processed_Data/DEEM_%s/kTrain.idxs' % sn\n",
    "            validateFile = '../Processed_Data/DEEM_%s/kValidate.idxs' % sn\n",
    "            dictKey = '%s-Ang-%s-%s' % (sn, pn[0], kn[0])\n",
    "\n",
    "            subprocess.call(['python', 'learningCurves.py',\n",
    "                            '-structure', structureFile,\n",
    "                            '-soap', dataFile,\n",
    "                            '-idxs', idxsFile,\n",
    "                            '-p', p,\n",
    "                            '-Z', '14',\n",
    "                            '-k', '5',\n",
    "                            '-kernel', k,\n",
    "                            '-width', str(hypers[dictKey][0]),\n",
    "                            '-sigma', str(hypers[dictKey][1]),\n",
    "                            '-zeta', '1',\n",
    "                            '-ntrain', '10', '30', '50', '100', '300', '500', \n",
    "                                       '1000', '3000', '5000', '8000',\n",
    "                            '-train', trainFile,\n",
    "                            '-validate', validateFile,\n",
    "                            '-shuffle',\n",
    "                            '-output', workDir])"
   ]
  },
  {
   "cell_type": "markdown",
   "metadata": {},
   "source": [
    "## Rings"
   ]
  },
  {
   "cell_type": "code",
   "execution_count": null,
   "metadata": {},
   "outputs": [],
   "source": [
    "for ss, sn in zip(sampleSizes, sampleNames):\n",
    "    for p, pn in zip(properties, propertyNames):\n",
    "        for ks in ['King', 'Short']:\n",
    "            for bd in ['Binary', 'Distribution']:\n",
    "                for k, kn in zip(kernels, kernelNames):\n",
    "                    workDir = '../Processed_Data/DEEM_%s/%s/Rings/%s/%s/%s' % (sn, pn, ks, bd, kn)\n",
    "                    structureFile = '../Raw_Data/DEEM_%s.xyz' % ss\n",
    "                    dataFile = '../Processed_Data/DEEM_%s/Rings/%s/%s/ringFiles.dat' % (sn, ks, bd)\n",
    "                    idxsFile = '../Processed_Data/DEEM_%s/Rings/%s/%s/FPS-rRings.idxs' % (sn, ks, bd)\n",
    "                    trainFile = '../Processed_Data/DEEM_%s/kTrain.idxs' % sn\n",
    "                    validateFile = '../Processed_Data/DEEM_%s/kValidate.idxs' % sn\n",
    "                    dictKey = '%s-%s%s-%s-%s' % (sn, ks, bd[0], pn[0], kn[0])\n",
    "\n",
    "                    subprocess.call(['python', 'learningCurves.py',\n",
    "                                    '-structure', structureFile,\n",
    "                                    '-soap', dataFile,\n",
    "                                    '-idxs', idxsFile,\n",
    "                                    '-p', p,\n",
    "                                    '-Z', '14',\n",
    "                                    '-k', '5',\n",
    "                                    '-kernel', k,\n",
    "                                    '-width', str(hypers[dictKey][0]),\n",
    "                                    '-sigma', str(hypers[dictKey][1]),\n",
    "                                    '-zeta', '1',\n",
    "                                    '-ntrain', '10', '30', '50', '100', '300', '500', \n",
    "                                               '1000', '3000', '5000', '8000',\n",
    "                                    '-train', trainFile,\n",
    "                                    '-validate', validateFile,\n",
    "                                    '-shuffle',\n",
    "                                    '-output', workDir])"
   ]
  },
  {
   "cell_type": "markdown",
   "metadata": {},
   "source": [
    "# Property Decomposition"
   ]
  },
  {
   "cell_type": "markdown",
   "metadata": {},
   "source": [
    "## SOAP"
   ]
  },
  {
   "cell_type": "code",
   "execution_count": null,
   "metadata": {},
   "outputs": [],
   "source": [
    "for ss, sn in zip(sampleSizes, sampleNames):\n",
    "    for c in cutoffs:\n",
    "        for p, pn in zip(properties, propertyNames):\n",
    "            for k, kn in zip(kernels, kernelNames):\n",
    "                workDir = '../Processed_Data/DEEM_%s/%s/%s/%s/%s' % (sn, pn, c, kn)\n",
    "                structureFile = '../Raw_Data/DEEM_%s.xyz' % ss\n",
    "                dataFile = '../Processed_Data/DEEM_%s/PCA/%s/SOAPFiles.dat' % (sn, c)\n",
    "                idxsFile = '../Processed_Data/DEEM_%s/PCA/%s/FPS-rSOAP.idxs' % (sn, c)\n",
    "                trainFile = '../Processed_Data/DEEM_%s/kTrain.idxs' % sn\n",
    "                validateFile = '../Processed_Data/DEEM_%s/kValidate.idxs' % sn\n",
    "                dictKey = '%s-SOAP%s-%s-%s' % (sn, c, pn[0], kn[0])\n",
    "\n",
    "                subprocess.call(['python', 'propertyRegression.py',\n",
    "                                '-structure', structureFile,\n",
    "                                '-soap', dataFile,\n",
    "                                '-idxs', idxsFile,\n",
    "                                '-p', p, \n",
    "                                '-Z', '14',\n",
    "                                '-k', k,\n",
    "                                '-width', str(hypers[dictKey][0]),\n",
    "                                '-sigma', str(hypers[dictKey][1]),\n",
    "                                '-zeta', '1',\n",
    "                                '-ntrain', '10000',\n",
    "                                '-env',\n",
    "                                '-lowmem'])"
   ]
  }
 ],
 "metadata": {
  "kernelspec": {
   "display_name": "Python 2",
   "language": "python",
   "name": "python2"
  },
  "language_info": {
   "codemirror_mode": {
    "name": "ipython",
    "version": 2
   },
   "file_extension": ".py",
   "mimetype": "text/x-python",
   "name": "python",
   "nbconvert_exporter": "python",
   "pygments_lexer": "ipython2",
   "version": "2.7.15rc1"
  }
 },
 "nbformat": 4,
 "nbformat_minor": 2
}
