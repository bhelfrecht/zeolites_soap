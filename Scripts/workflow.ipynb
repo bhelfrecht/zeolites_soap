{
 "cells": [
  {
   "cell_type": "code",
   "execution_count": 1,
   "metadata": {},
   "outputs": [
    {
     "name": "stdout",
     "output_type": "stream",
     "text": [
      "Found hyperparameter file\n"
     ]
    }
   ],
   "source": [
    "import os\n",
    "import sys\n",
    "import subprocess\n",
    "import pickle\n",
    "import numpy as np\n",
    "import ase.io as aseIO\n",
    "import time\n",
    "\n",
    "def getMinIdx(filename):\n",
    "    \"\"\"\n",
    "        Get the optimal hyperparameters\n",
    "        \n",
    "        ---Arguments---\n",
    "        filename: file containing the error matrix\n",
    "    \"\"\"\n",
    "    \n",
    "    # Load the matrix\n",
    "    x = np.load(filename)\n",
    "    \n",
    "    # The errors for all width and sigma\n",
    "    # (uses first training point, so we\n",
    "    # should optimize using just one training set size)\n",
    "    xErr = x[0, :, :, 0, 0, 5]\n",
    "    \n",
    "    # Get minimum error\n",
    "    xMin = np.argmin(xErr)\n",
    "    \n",
    "    # Get the 2D index from the 1D index\n",
    "    nCol = x.shape[2]\n",
    "    pos = (xMin/nCol, xMin%nCol)\n",
    "    \n",
    "    # Output width, sigma\n",
    "    return (x[0, pos[0], pos[1], 0, 0, 1],\n",
    "            x[0, pos[0], pos[1], 0, 0, 2])\n",
    "\n",
    "# Initialize workflow parameters\n",
    "sampleSizes = ['1000', '10000']\n",
    "sampleNames = ['1k', '10k']\n",
    "properties = ['Energy_per_Si', 'volume']\n",
    "propertyNames = ['Energy', 'Volume']\n",
    "cutoffs = ['3.5', '6.0']\n",
    "kernels = ['gaussian', 'linear']\n",
    "kernelNames = ['Gaussian', 'Linear']\n",
    "maxTrain = ['800', '8000']\n",
    "trainPts = {'10k': ['10', '30', '50', '100', '300', '500', '1000', '3000', '5000', '8000'],\n",
    "           '1k': ['10', '30', '50', '100', '300', '500', '800']}\n",
    "pcaPts = {'Energy': ['1', '2', '4', '10', '20', '100', '300'],\n",
    "         'Volume': ['1', '2', '4', '10', '20', '50', '100']}\n",
    "\n",
    "# Load the hyperparamters, if they exist\n",
    "try:\n",
    "    parameterFile = open('hyperparameters.pkl', 'rb')\n",
    "    print 'Found hyperparameter file'\n",
    "    hypers = pickle.load(parameterFile)\n",
    "    parameterFile.close()\n",
    "except IOError:\n",
    "    hypers = {}\n",
    "    print 'Creating new hyperparameters'"
   ]
  },
  {
   "cell_type": "code",
   "execution_count": 2,
   "metadata": {
    "scrolled": false
   },
   "outputs": [
    {
     "name": "stdout",
     "output_type": "stream",
     "text": [
      "{'10k-KingB-E-L': (nan, 1e-05), '10k-PCA3.5-E-L': (nan, 0.01), '10k-KingB-E-G': (3.0, 1.0), '10k-PCA3.5-E-G': (0.3, 0.03), '10k-PCA6.0-V-G': (1.0, 0.01), '10k-Ang-V-G': (10.0, 0.1), '10k-KingD-V-L': (nan, 0.03), '10k-PCA6.0-V-L': (nan, 0.3), '1k-PCA3.5-V-L': (nan, 1.0), '10k-Ang-V-L': (nan, 0.1), '10k-SOAP3.5-E-G': (0.3, 0.03), '10k-KPCA3.5-V-G': (1.0, 0.03), '10k-SOAP3.5-E-L': (nan, 0.001), '10k-KPCA3.5-V-L': (nan, 0.3), '1k-KPCA6.0-V-G': (1.0, 0.03), '1k-KPCA6.0-V-L': (nan, 1.0), '1k-ShortD-E-L': (nan, 0.3), '10k-SOAP6.0-V-G': (1.0, 0.01), '10k-Dist-V-L': (nan, 0.03), '1k-ShortD-E-G': (100.0, 0.01), '10k-Ang-E-L': (nan, 0.001), '10k-Ang-E-G': (30.0, 0.1), '1k-SOAP6.0-E-G': (3.0, 0.003), '10k-KPCA6.0-E-L': (nan, 0.1), '10k-KPCA3.5-E-L': (nan, 0.1), '10k-KPCA6.0-E-G': (1.0, 0.03), '10k-KPCA3.5-E-G': (1.0, 0.1), '1k-SOAP3.5-E-L': (nan, 0.01), '10k-Dist-V-G': (0.1, 0.1), '1k-SOAP3.5-E-G': (0.3, 0.03), '10k-KingB-V-G': (3.0, 0.1), '1k-PCA6.0-V-G': (1.0, 0.03), '10k-SOAP6.0-E-L': (nan, 0.001), '1k-PCA6.0-V-L': (nan, 1.0), '10k-KingB-V-L': (nan, 0.3), '1k-SOAP6.0-E-L': (nan, 0.003), '10k-SOAP6.0-E-G': (1.0, 0.01), '1k-PCA6.0-E-L': (nan, 0.001), '10k-ShortB-V-L': (nan, 0.001), '10k-Dist-E-G': (0.1, 0.3), '1k-ShortB-V-L': (nan, 0.1), '10k-ShortB-V-G': (3.0, 0.1), '1k-PCA6.0-E-G': (3.0, 0.003), '1k-ShortB-V-G': (3.0, 0.1), '10k-Dist-E-L': (nan, 0.001), '1k-ShortD-V-G': (10.0, 0.03), '1k-ShortD-V-L': (nan, 0.01), '10k-SOAP6.0-V-L': (nan, 0.03), '10k-ShortD-V-G': (3.0, 0.1), '1k-Ang-E-G': (30.0, 1.0), '1k-Ang-E-L': (nan, 0.001), '10k-ShortD-V-L': (nan, 1e-05), '10k-SOAP3.5-V-L': (nan, 0.001), '10k-PCA3.5-V-G': (0.3, 0.01), '1k-PCA3.5-E-L': (nan, 0.03), '10k-SOAP3.5-V-G': (0.3, 0.03), '1k-PCA3.5-E-G': (0.3, 0.03), '10k-PCA3.5-V-L': (nan, 0.03), '1k-KPCA6.0-E-L': (nan, 0.1), '1k-KPCA6.0-E-G': (1.0, 0.03), '1k-PCA3.5-V-G': (0.3, 0.03), '1k-KingD-V-L': (nan, 0.1), '1k-KingD-V-G': (10.0, 0.03), '10k-PCA6.0-E-L': (nan, 0.001), '1k-Ang-V-L': (nan, 0.1), '10k-PCA6.0-E-G': (1.0, 0.01), '1k-Ang-V-G': (30.0, 0.01), '1k-KPCA3.5-E-L': (nan, 0.1), '1k-KPCA3.5-E-G': (3.0, 0.03), '1k-Dist-E-G': (0.3, 0.3), '10k-KingD-V-G': (10.0, 0.03), '1k-KingB-E-L': (nan, 1e-05), '1k-Dist-E-L': (nan, 0.001), '1k-KingB-E-G': (10.0, 0.3), '10k-ShortD-E-L': (nan, 0.003), '1k-KingB-V-G': (10.0, 0.01), '1k-KingB-V-L': (nan, 1e-05), '10k-ShortD-E-G': (3.0, 1.0), '1k-ShortB-E-G': (10.0, 0.1), '1k-KPCA3.5-V-G': (1.0, 0.03), '1k-KPCA3.5-V-L': (nan, 1.0), '1k-ShortB-E-L': (nan, 0.003), '10k-ShortB-E-G': (3.0, 1.0), '10k-ShortB-E-L': (nan, 1.0), '1k-Dist-V-L': (nan, 0.03), '1k-KingD-E-G': (100.0, 0.01), '1k-KingD-E-L': (nan, 0.03), '1k-Dist-V-G': (0.3, 0.003), '10k-KingD-E-G': (10.0, 0.3), '10k-KingD-E-L': (nan, 0.3), '1k-SOAP3.5-V-G': (0.3, 0.03), '1k-SOAP6.0-V-L': (nan, 0.03), '1k-SOAP3.5-V-L': (nan, 0.03), '1k-SOAP6.0-V-G': (1.0, 0.03), '10k-KPCA6.0-V-G': (0.3, 0.1), '10k-KPCA6.0-V-L': (nan, 0.3)}\n"
     ]
    }
   ],
   "source": [
    "print hypers"
   ]
  },
  {
   "cell_type": "markdown",
   "metadata": {},
   "source": [
    "# Sort ring files (done)"
   ]
  },
  {
   "cell_type": "code",
   "execution_count": 2,
   "metadata": {},
   "outputs": [],
   "source": [
    "files = ['King_Binary', 'King_Distribution',\n",
    "        'Short_Binary', 'Short_Distribution']\n",
    "\n",
    "for ss in sampleSizes:\n",
    "    for f in files:\n",
    "        print 'Current construction: %s %s' % (ss, f)\n",
    "        inFile = '../Raw_Data/DEEM_%s_Rings_%s.xyz' % (ss, f)\n",
    "        outFile = '../Raw_Data/DEEM_%s_Rings_%s_Sorted.xyz' % (ss, f)\n",
    "        subprocess.call(['python', 'sort_rings.py',\n",
    "                        '-input', inFile,\n",
    "                        '-output', outFile])"
   ]
  },
  {
   "cell_type": "markdown",
   "metadata": {},
   "source": [
    "# Make k-Folds (done)"
   ]
  },
  {
   "cell_type": "code",
   "execution_count": 3,
   "metadata": {},
   "outputs": [],
   "source": [
    "for ss, sn in zip(sampleSizes, sampleNames):\n",
    "    print 'Current construction: %s' % sn\n",
    "    workDir = '../Processed_Data/DEEM_%s' % sn\n",
    "    \n",
    "    # Create directories\n",
    "    subprocess.call(['mkdir', '-p', workDir])\n",
    "    \n",
    "    subprocess.call(['python', 'kFolds.py',\n",
    "                    '-nt', ss,\n",
    "                    '-f', '1.0',\n",
    "                    '-k', '5',\n",
    "                    '-output', workDir])"
   ]
  },
  {
   "cell_type": "markdown",
   "metadata": {},
   "source": [
    "# Compute SOAP vectors"
   ]
  },
  {
   "cell_type": "markdown",
   "metadata": {},
   "source": [
    "## Compute all SOAP vectors (1k only) (done)"
   ]
  },
  {
   "cell_type": "code",
   "execution_count": 9,
   "metadata": {},
   "outputs": [],
   "source": [
    "for c in cutoffs:\n",
    "    print 'Current construction: %s' % c\n",
    "    structureFile = '../Raw_Data/DEEM_1000.xyz'\n",
    "    workDir = '../Processed_Data/DEEM_1k/PCA/%s' % c\n",
    "    \n",
    "    # Create directories\n",
    "    subprocess.call(['mkdir', '-p', workDir])\n",
    "        \n",
    "    # Compute full SOAP vectors\n",
    "    subprocess.call(['python', 'SOAP.py',\n",
    "                    '-structure', structureFile,\n",
    "                    '-n', '12',\n",
    "                    '-l', '9',\n",
    "                    '-c', c,\n",
    "                    '-cw', '0.3',\n",
    "                    '-g', '0.3',\n",
    "                    '-Z', '14',\n",
    "                    '-z', '14', '8',\n",
    "                    '-output', workDir])\n",
    "\n",
    "    # Select FPS components\n",
    "    subprocess.call(['python', 'FPS.py',\n",
    "                    '-soap', '%s/SOAPFiles.dat' % workDir,\n",
    "                    '-fps', '500',\n",
    "                    '-c',\n",
    "                    '-output', workDir])\n",
    "    \n",
    "    os.rename('%s/FPS.idxs' % workDir, \n",
    "              '%s/FPS-c.idxs' % workDir)\n",
    "    \n",
    "    # Recompute SOAPs, retain only the FPS components\n",
    "    subprocess.call(['python', 'SOAP.py',\n",
    "                    '-structure', structureFile,\n",
    "                    '-n', '12',\n",
    "                    '-l', '9',\n",
    "                    '-c', c,\n",
    "                    '-cw', '0.3',\n",
    "                    '-g', '0.3',\n",
    "                    '-Z', '14',\n",
    "                    '-z', '14', '8',\n",
    "                    '-idxs', '%s/FPS-c.idxs' % workDir,\n",
    "                    '-output', workDir])\n",
    "\n",
    "    # Select representative environments\n",
    "    subprocess.call(['python', 'FPS.py',\n",
    "                    '-soap', '%s/SOAPFiles.dat' % workDir,\n",
    "                    '-fps', '2000',\n",
    "                    '-output', workDir])\n",
    "    \n",
    "    os.rename('%s/FPS.idxs' % workDir,\n",
    "              '%s/FPS-rSOAP.idxs' % workDir)"
   ]
  },
  {
   "cell_type": "markdown",
   "metadata": {},
   "source": [
    "## Compute SOAP vectors (10k only) (done)"
   ]
  },
  {
   "cell_type": "code",
   "execution_count": 11,
   "metadata": {},
   "outputs": [],
   "source": [
    "for c in cutoffs:\n",
    "    print 'Current construction: %s' % c\n",
    "    structureFile = '../Raw_Data/DEEM_10000.xyz'\n",
    "    workDir = '../Processed_Data/DEEM_10k/PCA/%s' % c\n",
    "    \n",
    "    # Create directories\n",
    "    subprocess.call(['mkdir', '-p', workDir])\n",
    "    \n",
    "    # Select random structures\n",
    "    subprocess.call(['python', 'randomStructureSelect.py',\n",
    "                    '-structure', structureFile,\n",
    "                    '-nt', '10000',\n",
    "                    '-nr', '2000',\n",
    "                    '-output', workDir])\n",
    "\n",
    "    # Compute SOAP vectors for random structures\n",
    "    subprocess.call(['python', 'SOAP.py',\n",
    "                    '-structure', '%s/randomSelection.xyz' % workDir,\n",
    "                    '-n', '12',\n",
    "                    '-l', '9',\n",
    "                    '-c', c,\n",
    "                    '-cw', '0.3',\n",
    "                    '-g', '0.3',\n",
    "                    '-Z', '14',\n",
    "                    '-z', '14', '8',\n",
    "                    '-output', workDir])\n",
    "\n",
    "    # Select FPS components\n",
    "    subprocess.call(['python', 'FPS.py',\n",
    "                    '-soap', '%s/SOAPFiles.dat' % workDir,\n",
    "                    '-fps', '500',\n",
    "                    '-c',\n",
    "                    '-output', workDir])\n",
    "    \n",
    "    os.rename('%s/FPS.idxs' % workDir,\n",
    "              '%s/FPS-c.idxs' % workDir)\n",
    "\n",
    "    # Re-compute SOAPs, retain only FPS components\n",
    "    subprocess.call(['python', 'SOAP.py',\n",
    "                    '-structure', structureFile,\n",
    "                    '-n', '12',\n",
    "                    '-l', '9',\n",
    "                    '-c', c,\n",
    "                    '-cw', '0.3',\n",
    "                     '-g', '0.3',\n",
    "                    '-Z', '14',\n",
    "                    '-z', '14', '8',\n",
    "                    '-idxs', '%s/FPS-c.idxs' % workDir,\n",
    "                    '-batchsize', '1000',\n",
    "                    '-output', workDir])\n",
    "\n",
    "    # Select representative environments\n",
    "    subprocess.call(['python', 'FPS.py',\n",
    "                    '-soap', '%s/SOAPFiles.dat' % workDir,\n",
    "                    '-fps', '2000',\n",
    "                    '-output', workDir])\n",
    "    \n",
    "    os.rename('%s/FPS.idxs' % workDir,\n",
    "              '%s/FPS-rSOAP.idxs' % workDir)"
   ]
  },
  {
   "cell_type": "markdown",
   "metadata": {},
   "source": [
    "## Hyperparameter optimization (done)"
   ]
  },
  {
   "cell_type": "code",
   "execution_count": 10,
   "metadata": {},
   "outputs": [
    {
     "name": "stdout",
     "output_type": "stream",
     "text": [
      "Current optimization: 1k 3.5 Energy Gaussian\n",
      "Current optimization: 1k 3.5 Energy Linear\n",
      "Current optimization: 1k 3.5 Volume Gaussian\n",
      "Current optimization: 1k 3.5 Volume Linear\n",
      "Current optimization: 1k 6.0 Energy Gaussian\n",
      "Current optimization: 1k 6.0 Energy Linear\n",
      "Current optimization: 1k 6.0 Volume Gaussian\n",
      "Current optimization: 1k 6.0 Volume Linear\n",
      "Current optimization: 10k 3.5 Energy Gaussian\n",
      "Current optimization: 10k 3.5 Energy Linear\n",
      "Current optimization: 10k 3.5 Volume Gaussian\n",
      "Current optimization: 10k 3.5 Volume Linear\n",
      "Current optimization: 10k 6.0 Energy Gaussian\n",
      "Current optimization: 10k 6.0 Energy Linear\n",
      "Current optimization: 10k 6.0 Volume Gaussian\n",
      "Current optimization: 10k 6.0 Volume Linear\n"
     ]
    }
   ],
   "source": [
    "for ss, sn, mt in zip(sampleSizes, sampleNames, maxTrain):\n",
    "    for c in cutoffs:\n",
    "        for p, pn in zip(properties, propertyNames):\n",
    "            for k, kn in zip(kernels, kernelNames):\n",
    "                print 'Current optimization: %s %s %s %s' % (sn, c, pn, kn)\n",
    "                workDir = '../Processed_Data/DEEM_%s/%s/%s/ParameterSearch/%s' % (sn, pn, c, kn)\n",
    "                dataDir = '../Processed_Data/DEEM_%s/PCA/%s' % (sn, c)\n",
    "                foldDir = '../Processed_Data/DEEM_%s' % sn\n",
    "                structureFile = '../Raw_Data/DEEM_%s.xyz' % ss\n",
    "                dictKey = '%s-SOAP%s-%s-%s' % (sn, c, pn[0], kn[0])\n",
    "                \n",
    "                # Create directories\n",
    "                subprocess.call(['mkdir', '-p', workDir])\n",
    "\n",
    "                subprocess.call(['python', 'learningCurves.py',\n",
    "                                '-structure', structureFile,\n",
    "                                '-soap', '%s/SOAPFiles.dat' % dataDir,\n",
    "                                '-idxs', '%s/FPS-rSOAP.idxs' % dataDir,\n",
    "                                '-p', p,\n",
    "                                '-Z', '14',\n",
    "                                '-k', '5',\n",
    "                                '-kernel', k,\n",
    "                                '-width', '0.001', '0.003', '0.01', '0.03', \n",
    "                                          '0.1', '0.3', '1.0', '3.0', '10.0',\n",
    "                                '-sigma', '0.001', '0.003', '0.01', '0.03', \n",
    "                                          '0.1', '0.3', '1.0', '3.0', '10.0',\n",
    "                                '-zeta', '1',\n",
    "                                '-ntrain', mt,\n",
    "                                '-train', '%s/kTrain.idxs' % foldDir,\n",
    "                                '-validate', '%s/kValidate.idxs' % foldDir,\n",
    "                                '-shuffle',\n",
    "                                '-output', workDir])\n",
    "                optParams = getMinIdx('%s/maeAvgTest.npy' % workDir)\n",
    "                hypers[dictKey] = optParams\n",
    "\n",
    "parameterFile = open('hyperparameters.pkl', 'wb')\n",
    "pickle.dump(hypers, parameterFile)\n",
    "parameterFile.close()"
   ]
  },
  {
   "cell_type": "markdown",
   "metadata": {},
   "source": [
    "# Build PCA"
   ]
  },
  {
   "cell_type": "markdown",
   "metadata": {},
   "source": [
    "## Build linear PCA (done)"
   ]
  },
  {
   "cell_type": "code",
   "execution_count": 3,
   "metadata": {},
   "outputs": [
    {
     "name": "stdout",
     "output_type": "stream",
     "text": [
      "Current construction: 1k 3.5\n",
      "Current construction: 1k 6.0\n",
      "Current construction: 10k 3.5\n",
      "Current construction: 10k 6.0\n"
     ]
    }
   ],
   "source": [
    "for ss, sn in zip(sampleSizes, sampleNames):\n",
    "    for c in cutoffs:\n",
    "        print 'Current construction: %s %s' % (sn, c)\n",
    "        workDir = '../Processed_Data/DEEM_%s/PCA/%s' % (sn, c)\n",
    "        \n",
    "        # Create directories\n",
    "        subprocess.call(['mkdir', '-p', workDir])\n",
    "        \n",
    "        subprocess.call(['python', 'SOAP-PCA.py',\n",
    "                        '-soap', '%s/SOAPFiles.dat' % workDir,\n",
    "                        '-dopca',\n",
    "                        '-pca', '500',\n",
    "                        '-output', workDir])\n",
    "\n",
    "        subprocess.call(['python', 'SOAP-PCA.py',\n",
    "                        '-soap', '%s/SOAPFiles.dat' % workDir,\n",
    "                        '-dotransform',\n",
    "                        '-w', '%s/eigenvectors.dat' % workDir,\n",
    "                        '-mean', '%s/mean.dat' % workDir,\n",
    "                        '-output', workDir])\n",
    "\n",
    "        subprocess.call(['python', 'FPS.py',\n",
    "                        '-soap', '%s/PCAFiles.dat' % workDir,\n",
    "                        '-fps', '2000',\n",
    "                        '-output', workDir])\n",
    "        \n",
    "        os.rename('%s/FPS.idxs' % workDir,\n",
    "                  '%s/FPS-rPCA.idxs' % workDir)"
   ]
  },
  {
   "cell_type": "markdown",
   "metadata": {},
   "source": [
    "## Build KPCA (done)"
   ]
  },
  {
   "cell_type": "code",
   "execution_count": 3,
   "metadata": {},
   "outputs": [
    {
     "name": "stdout",
     "output_type": "stream",
     "text": [
      "Current construction: 1k 3.5\n",
      "Current construction: 1k 6.0\n",
      "Current construction: 10k 3.5\n",
      "Current construction: 10k 6.0\n"
     ]
    }
   ],
   "source": [
    "for ss, sn in zip(sampleSizes, sampleNames):\n",
    "    for c in cutoffs:\n",
    "        print 'Current construction: %s %s' % (sn, c)\n",
    "        dictKey = '%s-SOAP%s-%s-%s' % (sn, c, 'V', 'G') # Use volume as default choice to build the KPCA\n",
    "        workDir = '../Processed_Data/DEEM_%s/PCA/%s' % (sn, c)\n",
    "        \n",
    "        # Create directories\n",
    "        subprocess.call(['mkdir', '-p', workDir])\n",
    "        \n",
    "        subprocess.call(['python', 'centerData.py',\n",
    "                        '-soap', '%s/SOAPFiles.dat' % workDir])\n",
    "\n",
    "        subprocess.call(['python', 'SOAP-KPCA.py',\n",
    "                        '-soap', '%s/SOAPFiles-centered.dat' % workDir,\n",
    "                        '-pca', '500',\n",
    "                        '-kernel', 'gaussian', # Don't need linear b/c we have the PCA, which is faster\n",
    "                        '-width', str(hypers[dictKey][0]),\n",
    "                        '-lowmem',\n",
    "                        '-idxs', '%s/FPS-rSOAP.idxs' % workDir,\n",
    "                        '-output', workDir])\n",
    "\n",
    "        subprocess.call(['python', 'FPS.py',\n",
    "                        '-soap', '%s/KPCAFiles.dat' % workDir,\n",
    "                        '-fps', '2000',\n",
    "                        '-output', workDir])\n",
    "        \n",
    "        os.rename('%s/FPS.idxs' % workDir,\n",
    "                  '%s/FPS-rKPCA.idxs' % workDir)"
   ]
  },
  {
   "cell_type": "markdown",
   "metadata": {},
   "source": [
    "# Build classical descriptors"
   ]
  },
  {
   "cell_type": "markdown",
   "metadata": {},
   "source": [
    "## Distances (done)"
   ]
  },
  {
   "cell_type": "code",
   "execution_count": 4,
   "metadata": {},
   "outputs": [
    {
     "name": "stdout",
     "output_type": "stream",
     "text": [
      "Current construction: 1k\n",
      "Current construction: 10k\n"
     ]
    }
   ],
   "source": [
    "for ss, sn in zip(sampleSizes, sampleNames):\n",
    "    print 'Current construction: %s' % sn\n",
    "    workDir = '../Processed_Data/DEEM_%s/Distances' % sn\n",
    "    structureFile = '../Raw_Data/DEEM_%s_Distances.xyz' % ss\n",
    "    \n",
    "    # Create directories\n",
    "    subprocess.call(['mkdir', '-p', workDir])\n",
    "    \n",
    "    subprocess.call(['python', 'buildClassicalDescriptors.py',\n",
    "                    '-input', structureFile,\n",
    "                    '-output', '%s/distances.dat' % workDir,\n",
    "                    '-p', 'distances'])\n",
    "    \n",
    "    f = open('%s/distanceFiles.dat' % workDir, 'w')\n",
    "    f.write(os.path.abspath('%s/distances.dat' % workDir))\n",
    "    f.close()\n",
    "    \n",
    "    subprocess.call(['python', 'FPS.py',\n",
    "                    '-soap', '%s/distanceFiles.dat' % workDir,\n",
    "                    '-fps', '2000',\n",
    "                    '-output', workDir])\n",
    "        \n",
    "    os.rename('%s/FPS.idxs' % workDir,\n",
    "              '%s/FPS-rDistances.idxs' % workDir)"
   ]
  },
  {
   "cell_type": "markdown",
   "metadata": {},
   "source": [
    "## Angles (done)"
   ]
  },
  {
   "cell_type": "code",
   "execution_count": 6,
   "metadata": {},
   "outputs": [
    {
     "name": "stdout",
     "output_type": "stream",
     "text": [
      "Current construction: 1k\n",
      "Current construction: 10k\n"
     ]
    }
   ],
   "source": [
    "for ss, sn in zip(sampleSizes, sampleNames):\n",
    "    print 'Current construction: %s' % sn\n",
    "    workDir = '../Processed_Data/DEEM_%s/Angles' % sn\n",
    "    structureFile = '../Raw_Data/DEEM_%s_Angles.xyz' % ss\n",
    "    \n",
    "    # Create directories\n",
    "    subprocess.call(['mkdir', '-p', workDir])\n",
    "    \n",
    "    subprocess.call(['python', 'buildClassicalDescriptors.py',\n",
    "                    '-input', structureFile,\n",
    "                    '-output', '%s/angles.dat' % workDir,\n",
    "                    '-p', 'angles'])\n",
    "    \n",
    "    f = open('%s/angleFiles.dat' % workDir, 'w')\n",
    "    f.write(os.path.abspath('%s/angles.dat' % workDir))\n",
    "    f.close()\n",
    "    \n",
    "    subprocess.call(['python', 'FPS.py',\n",
    "                    '-soap', '%s/angleFiles.dat' % workDir,\n",
    "                    '-fps', '2000',\n",
    "                    '-output', workDir])\n",
    "        \n",
    "    os.rename('%s/FPS.idxs' % workDir,\n",
    "              '%s/FPS-rAngles.idxs' % workDir)"
   ]
  },
  {
   "cell_type": "markdown",
   "metadata": {},
   "source": [
    "## Rings (done)"
   ]
  },
  {
   "cell_type": "code",
   "execution_count": 9,
   "metadata": {},
   "outputs": [
    {
     "name": "stdout",
     "output_type": "stream",
     "text": [
      "Current construction: 1k King Binary\n",
      "Current construction: 1k King Distribution\n",
      "Current construction: 1k Short Binary\n",
      "Current construction: 1k Short Distribution\n",
      "Current construction: 10k King Binary\n",
      "Current construction: 10k King Distribution\n",
      "Current construction: 10k Short Binary\n",
      "Current construction: 10k Short Distribution\n"
     ]
    }
   ],
   "source": [
    "for ss, sn in zip(sampleSizes, sampleNames):\n",
    "    for ks in ['King', 'Short']:\n",
    "        for bd in ['Binary', 'Distribution']:\n",
    "            print 'Current construction: %s %s %s' % (sn, ks, bd)\n",
    "            workDir = '../Processed_Data/DEEM_%s/Rings/%s/%s' % (sn, ks, bd)\n",
    "            structureFile = '../Raw_Data/DEEM_%s_Rings_%s_%s_Sorted.xyz' % (ss, ks, bd)\n",
    "            \n",
    "            # Create directories\n",
    "            subprocess.call(['mkdir', '-p', workDir])\n",
    "            \n",
    "            subprocess.call(['python', 'buildClassicalDescriptors.py',\n",
    "                            '-input', structureFile,\n",
    "                            '-output', '%s/rings.dat' % workDir,\n",
    "                            '-p', 'rings'])\n",
    "            \n",
    "            f = open('%s/ringFiles.dat' % workDir, 'w')\n",
    "            f.write(os.path.abspath('%s/rings.dat' % workDir))\n",
    "            f.close()\n",
    "            \n",
    "            subprocess.call(['python', 'FPS.py',\n",
    "                    '-soap', '%s/ringFiles.dat' % workDir,\n",
    "                    '-fps', '2000',\n",
    "                    '-output', workDir])\n",
    "        \n",
    "            os.rename('%s/FPS.idxs' % workDir,\n",
    "                      '%s/FPS-rRings.idxs' % workDir)"
   ]
  },
  {
   "cell_type": "code",
   "execution_count": 10,
   "metadata": {},
   "outputs": [],
   "source": [
    "# Clean up the FPS files; get rid of repeated ('0') indices\n",
    "# (as a result of there being fewer unique environments\n",
    "# than desired representative environments)\n",
    "for ss, sn in zip(sampleSizes, sampleNames):\n",
    "    for ks in ['King', 'Short']:\n",
    "        for bd in ['Binary', 'Distribution']:\n",
    "            workDir = '../Processed_Data/DEEM_%s/Rings/%s/%s' % (sn, ks, bd)\n",
    "            idxs = np.loadtxt('%s/FPS-rRings.idxs' % workDir)\n",
    "            newIdxs, locations = np.unique(idxs, return_index=True)\n",
    "            if len(newIdxs) < len(idxs):\n",
    "                locations.sort()\n",
    "                os.rename('%s/FPS-rRings.idxs' % workDir,\n",
    "                         '%s/FPS-rRings.idxs.bk' % workDir)\n",
    "                np.savetxt('%s/FPS-rRings.idxs' % workDir, idxs[locations], fmt='%d')"
   ]
  },
  {
   "cell_type": "markdown",
   "metadata": {},
   "source": [
    "# Hyperparameter Optimization"
   ]
  },
  {
   "cell_type": "markdown",
   "metadata": {},
   "source": [
    "## PCA (done)"
   ]
  },
  {
   "cell_type": "code",
   "execution_count": 16,
   "metadata": {},
   "outputs": [
    {
     "name": "stdout",
     "output_type": "stream",
     "text": [
      "Current optimization: 1k 3.5 Energy Linear\n",
      "Current optimization: 1k 3.5 Volume Linear\n",
      "Current optimization: 1k 6.0 Energy Linear\n",
      "Current optimization: 1k 6.0 Volume Linear\n",
      "Current optimization: 10k 3.5 Energy Linear\n",
      "Current optimization: 10k 3.5 Volume Linear\n",
      "Current optimization: 10k 6.0 Energy Linear\n",
      "Current optimization: 10k 6.0 Volume Linear\n"
     ]
    }
   ],
   "source": [
    "for ss, sn, mt in zip(sampleSizes, sampleNames, maxTrain):\n",
    "    for c in cutoffs:\n",
    "        for p, pn in zip(properties, propertyNames):\n",
    "            for k, kn in zip(kernels, kernelNames):\n",
    "                print 'Current optimization: %s %s %s %s' % (sn, c, pn, kn)\n",
    "                workDir = '../Processed_Data/DEEM_%s/%s/%s/PCALearn/ParameterSearch/%s' % (sn, pn, c, kn)\n",
    "                structureFile = '../Raw_Data/DEEM_%s.xyz' % ss\n",
    "                dataFile = '../Processed_Data/DEEM_%s/PCA/%s/PCAFiles.dat' % (sn, c)\n",
    "                idxsFile = '../Processed_Data/DEEM_%s/PCA/%s/FPS-rPCA.idxs' % (sn, c)\n",
    "                trainFile = '../Processed_Data/DEEM_%s/kTrain.idxs' % sn\n",
    "                validateFile = '../Processed_Data/DEEM_%s/kValidate.idxs' % sn\n",
    "                dictKey = '%s-PCA%s-%s-%s' % (sn, c, pn[0], kn[0])\n",
    "                \n",
    "                # Create directories\n",
    "                subprocess.call(['mkdir', '-p', workDir])\n",
    "\n",
    "                subprocess.call(['python', 'learningCurves.py',\n",
    "                                '-structure', structureFile,\n",
    "                                '-soap', dataFile,\n",
    "                                '-idxs', idxsFile,\n",
    "                                '-p', p,\n",
    "                                '-Z', '14',\n",
    "                                '-k', '5',\n",
    "                                '-kernel', k,\n",
    "                                '-width', '0.001', '0.003', '0.01', '0.03', \n",
    "                                          '0.1', '0.3', '1.0', '3.0', '10.0',\n",
    "                                '-sigma', '0.001', '0.003', '0.01', '0.03', \n",
    "                                          '0.1', '0.3', '1.0', '3.0', '10.0', \n",
    "                                '-zeta', '1',\n",
    "                                '-ntrain', mt,\n",
    "                                '-train', trainFile,\n",
    "                                '-validate', validateFile,\n",
    "                                '-shuffle',\n",
    "                                '-output', workDir])\n",
    "                optParams = getMinIdx('%s/maeAvgTest.npy' % workDir)\n",
    "                hypers[dictKey] = optParams\n",
    "\n",
    "parameterFile = open('hyperparameters.pkl', 'wb')\n",
    "pickle.dump(hypers, parameterFile)\n",
    "parameterFile.close()"
   ]
  },
  {
   "cell_type": "markdown",
   "metadata": {},
   "source": [
    "## KPCA (done)"
   ]
  },
  {
   "cell_type": "code",
   "execution_count": 6,
   "metadata": {},
   "outputs": [
    {
     "name": "stdout",
     "output_type": "stream",
     "text": [
      "Current optimization: 1k 3.5 Energy Gaussian\n",
      "Current optimization: 1k 3.5 Energy Linear\n",
      "Current optimization: 1k 3.5 Volume Gaussian\n",
      "Current optimization: 1k 3.5 Volume Linear\n",
      "Current optimization: 1k 6.0 Energy Gaussian\n",
      "Current optimization: 1k 6.0 Energy Linear\n",
      "Current optimization: 1k 6.0 Volume Gaussian\n",
      "Current optimization: 1k 6.0 Volume Linear\n",
      "Current optimization: 10k 3.5 Energy Gaussian\n",
      "Current optimization: 10k 3.5 Energy Linear\n",
      "Current optimization: 10k 3.5 Volume Gaussian\n",
      "Current optimization: 10k 3.5 Volume Linear\n",
      "Current optimization: 10k 6.0 Energy Gaussian\n",
      "Current optimization: 10k 6.0 Energy Linear\n",
      "Current optimization: 10k 6.0 Volume Gaussian\n",
      "Current optimization: 10k 6.0 Volume Linear\n"
     ]
    }
   ],
   "source": [
    "for ss, sn, mt in zip(sampleSizes, sampleNames, maxTrain):\n",
    "    for c in cutoffs:\n",
    "        for p, pn in zip(properties, propertyNames):\n",
    "            for k, kn in zip(kernels, kernelNames):\n",
    "                print 'Current optimization: %s %s %s %s' % (sn, c, pn, kn)\n",
    "                workDir = '../Processed_Data/DEEM_%s/%s/%s/KPCALearn/ParameterSearch/%s' % (sn, pn, c, kn)\n",
    "                structureFile = '../Raw_Data/DEEM_%s.xyz' % ss\n",
    "                dataFile = '../Processed_Data/DEEM_%s/PCA/%s/KPCAFiles.dat' % (sn, c)\n",
    "                idxsFile = '../Processed_Data/DEEM_%s/PCA/%s/FPS-rKPCA.idxs' % (sn, c)\n",
    "                trainFile = '../Processed_Data/DEEM_%s/kTrain.idxs' % sn\n",
    "                validateFile = '../Processed_Data/DEEM_%s/kValidate.idxs' % sn\n",
    "                dictKey = '%s-KPCA%s-%s-%s' % (sn, c, pn[0], kn[0])\n",
    "                \n",
    "                # Create directories\n",
    "                subprocess.call(['mkdir', '-p', workDir])\n",
    "\n",
    "                subprocess.call(['python', 'learningCurves.py',\n",
    "                                '-structure', structureFile,\n",
    "                                '-soap', dataFile,\n",
    "                                '-idxs', idxsFile,\n",
    "                                '-p', p,\n",
    "                                '-Z', '14',\n",
    "                                '-k', '5',\n",
    "                                '-kernel', k,\n",
    "                                '-width', '0.001', '0.003', '0.01', '0.03', \n",
    "                                          '0.1', '0.3', '1.0', '3.0', '10.0',\n",
    "                                '-sigma', '0.001', '0.003', '0.01', '0.03', \n",
    "                                          '0.1', '0.3', '1.0', '3.0', '10.0',\n",
    "                                '-zeta', '1', \n",
    "                                '-ntrain', mt,\n",
    "                                '-train', trainFile,\n",
    "                                '-validate', validateFile,\n",
    "                                '-shuffle',\n",
    "                                '-output', workDir])\n",
    "                optParams = getMinIdx('%s/maeAvgTest.npy' % workDir)\n",
    "                hypers[dictKey] = optParams                \n",
    "\n",
    "                parameterFile = open('hyperparameters.pkl', 'wb')\n",
    "pickle.dump(hypers, parameterFile)\n",
    "parameterFile.close()"
   ]
  },
  {
   "cell_type": "markdown",
   "metadata": {},
   "source": [
    "## Distances (done)"
   ]
  },
  {
   "cell_type": "code",
   "execution_count": 4,
   "metadata": {},
   "outputs": [
    {
     "name": "stdout",
     "output_type": "stream",
     "text": [
      "Current optimization: 1k Energy Gaussian\n",
      "Current optimization: 1k Energy Linear\n",
      "Current optimization: 1k Volume Gaussian\n",
      "Current optimization: 1k Volume Linear\n",
      "Current optimization: 10k Energy Gaussian\n",
      "Current optimization: 10k Energy Linear\n",
      "Current optimization: 10k Volume Gaussian\n",
      "Current optimization: 10k Volume Linear\n"
     ]
    }
   ],
   "source": [
    "for ss, sn, mt in zip(sampleSizes, sampleNames, maxTrain):\n",
    "    for p, pn in zip(properties, propertyNames):\n",
    "        for k, kn in zip(kernels, kernelNames):\n",
    "            print 'Current optimization: %s %s %s' % (sn, pn, kn)\n",
    "            workDir = '../Processed_Data/DEEM_%s/%s/Distances/ParameterSearch/%s' % (sn, pn, kn)\n",
    "            structureFile = '../Raw_Data/DEEM_%s.xyz' % ss\n",
    "            soapFile = '../Processed_Data/DEEM_%s/Distances/distanceFiles.dat' % sn\n",
    "            idxsFile = '../Processed_Data/DEEM_%s/Distances/FPS-rDistances.idxs' % sn\n",
    "            trainFile = '../Processed_Data/DEEM_%s/kTrain.idxs' % sn\n",
    "            validateFile = '../Processed_Data/DEEM_%s/kValidate.idxs' % sn\n",
    "            dictKey = '%s-Dist-%s-%s' % (sn, pn[0], kn[0])\n",
    "            \n",
    "            # Create directories\n",
    "            subprocess.call(['mkdir', '-p', workDir])\n",
    "\n",
    "            subprocess.call(['python', 'learningCurves.py',\n",
    "                            '-structure', structureFile,\n",
    "                            '-soap', soapFile,\n",
    "                            '-idxs', idxsFile,\n",
    "                            '-p', p,\n",
    "                            '-Z', '14',\n",
    "                            '-k', '5',\n",
    "                            '-kernel', k,\n",
    "                            '-width', '0.001', '0.003', '0.01', '0.03', \n",
    "                                      '0.1', '0.3', '1.0',\n",
    "                            '-sigma', '0.001', '0.003', '0.01', '0.03', \n",
    "                                      '0.1', '0.3', '1.0',\n",
    "                            '-zeta', '1',\n",
    "                            '-ntrain', mt,\n",
    "                            '-train', trainFile,\n",
    "                            '-validate', validateFile,\n",
    "                            '-shuffle',\n",
    "                            '-output', workDir])\n",
    "            optParams = getMinIdx('%s/maeAvgTest.npy' % workDir)\n",
    "            hypers[dictKey] = optParams            \n",
    "\n",
    "parameterFile = open('hyperparameters.pkl', 'wb')\n",
    "pickle.dump(hypers, parameterFile)\n",
    "parameterFile.close()"
   ]
  },
  {
   "cell_type": "markdown",
   "metadata": {},
   "source": [
    "## Angles (done)"
   ]
  },
  {
   "cell_type": "code",
   "execution_count": 6,
   "metadata": {},
   "outputs": [
    {
     "name": "stdout",
     "output_type": "stream",
     "text": [
      "Current optimization: 1k Energy Gaussian\n",
      "Current optimization: 1k Energy Linear\n",
      "Current optimization: 1k Volume Gaussian\n",
      "Current optimization: 1k Volume Linear\n",
      "Current optimization: 10k Energy Gaussian\n",
      "Current optimization: 10k Energy Linear\n",
      "Current optimization: 10k Volume Gaussian\n",
      "Current optimization: 10k Volume Linear\n"
     ]
    }
   ],
   "source": [
    "for ss, sn, mt in zip(sampleSizes, sampleNames, maxTrain):\n",
    "    for p, pn in zip(properties, propertyNames):\n",
    "        for k, kn in zip(kernels, kernelNames):\n",
    "            print 'Current optimization: %s %s %s' % (sn, pn, kn)\n",
    "            workDir = '../Processed_Data/DEEM_%s/%s/Angles/ParameterSearch/%s' % (sn, pn, kn)\n",
    "            structureFile = '../Raw_Data/DEEM_%s.xyz' % ss\n",
    "            dataFile = '../Processed_Data/DEEM_%s/Angles/angleFiles.dat' % sn\n",
    "            idxsFile = '../Processed_Data/DEEM_%s/Angles/FPS-rAngles.idxs' % sn\n",
    "            trainFile = '../Processed_Data/DEEM_%s/kTrain.idxs' % sn\n",
    "            validateFile = '../Processed_Data/DEEM_%s/kValidate.idxs' % sn\n",
    "            dictKey = '%s-Ang-%s-%s' % (sn, pn[0], kn[0])\n",
    "            \n",
    "            # Create directories\n",
    "            subprocess.call(['mkdir', '-p', workDir])\n",
    "\n",
    "            subprocess.call(['python', 'learningCurves.py',\n",
    "                            '-structure', structureFile,\n",
    "                            '-soap', dataFile,\n",
    "                            '-idxs', idxsFile,\n",
    "                            '-p', p,\n",
    "                            '-Z', '14',\n",
    "                            '-k', '5',\n",
    "                            '-kernel', k,\n",
    "                            '-width', '1.0', '3.0', '10.0', '30.0', \n",
    "                                      '100.0', '300.0', '1000.0',\n",
    "                            '-sigma', '0.001', '0.003', '0.01', '0.03', \n",
    "                                      '0.1', '0.3', '1.0',\n",
    "                            '-zeta', '1',\n",
    "                            '-ntrain', mt,\n",
    "                            '-train', trainFile,\n",
    "                            '-validate', validateFile,\n",
    "                            '-shuffle',\n",
    "                            '-output', workDir])\n",
    "            optParams = getMinIdx('%s/maeAvgTest.npy' % workDir)\n",
    "            hypers[dictKey] = optParams            \n",
    "\n",
    "parameterFile = open('hyperparameters.pkl', 'wb')\n",
    "pickle.dump(hypers, parameterFile)\n",
    "parameterFile.close()"
   ]
  },
  {
   "cell_type": "markdown",
   "metadata": {},
   "source": [
    "## Rings (done)"
   ]
  },
  {
   "cell_type": "code",
   "execution_count": 9,
   "metadata": {},
   "outputs": [
    {
     "name": "stdout",
     "output_type": "stream",
     "text": [
      "Current optimization: 1k Energy King Binary Gaussian\n",
      "Current optimization: 1k Energy King Binary Linear\n",
      "Current optimization: 1k Energy King Distribution Gaussian\n",
      "Current optimization: 1k Energy King Distribution Linear\n",
      "Current optimization: 1k Energy Short Binary Gaussian\n",
      "Current optimization: 1k Energy Short Binary Linear\n",
      "Current optimization: 1k Energy Short Distribution Gaussian\n",
      "Current optimization: 1k Energy Short Distribution Linear\n",
      "Current optimization: 1k Volume King Binary Gaussian\n",
      "Current optimization: 1k Volume King Binary Linear\n",
      "Current optimization: 1k Volume King Distribution Gaussian\n",
      "Current optimization: 1k Volume King Distribution Linear\n",
      "Current optimization: 1k Volume Short Binary Gaussian\n",
      "Current optimization: 1k Volume Short Binary Linear\n",
      "Current optimization: 1k Volume Short Distribution Gaussian\n",
      "Current optimization: 1k Volume Short Distribution Linear\n",
      "Current optimization: 10k Energy King Binary Gaussian\n",
      "Current optimization: 10k Energy King Binary Linear\n",
      "Current optimization: 10k Energy King Distribution Gaussian\n",
      "Current optimization: 10k Energy King Distribution Linear\n",
      "Current optimization: 10k Energy Short Binary Gaussian\n",
      "Current optimization: 10k Energy Short Binary Linear\n",
      "Current optimization: 10k Energy Short Distribution Gaussian\n",
      "Current optimization: 10k Energy Short Distribution Linear\n",
      "Current optimization: 10k Volume King Binary Gaussian\n",
      "Current optimization: 10k Volume King Binary Linear\n",
      "Current optimization: 10k Volume King Distribution Gaussian\n",
      "Current optimization: 10k Volume King Distribution Linear\n",
      "Current optimization: 10k Volume Short Binary Gaussian\n",
      "Current optimization: 10k Volume Short Binary Linear\n",
      "Current optimization: 10k Volume Short Distribution Gaussian\n",
      "Current optimization: 10k Volume Short Distribution Linear\n"
     ]
    }
   ],
   "source": [
    "for ss, sn, mt in zip(sampleSizes, sampleNames, maxTrain):\n",
    "    for p, pn in zip(properties, propertyNames):\n",
    "        for ks in ['King', 'Short']:\n",
    "            for bd in ['Binary', 'Distribution']:\n",
    "                for k, kn in zip(kernels, kernelNames):\n",
    "                    print 'Current optimization: %s %s %s %s %s' % (sn, pn, ks, bd, kn)\n",
    "                    workDir = '../Processed_Data/DEEM_%s/%s/Rings/%s/%s/ParameterSearch/%s' % (sn, pn, ks, bd, kn)\n",
    "                    structureFile = '../Raw_Data/DEEM_%s.xyz' % ss\n",
    "                    dataFile = '../Processed_Data/DEEM_%s/Rings/%s/%s/ringFiles.dat' % (sn, ks, bd)\n",
    "                    idxsFile = '../Processed_Data/DEEM_%s/Rings/%s/%s/FPS-rRings.idxs' % (sn, ks, bd)\n",
    "                    trainFile = '../Processed_Data/DEEM_%s/kTrain.idxs' % sn\n",
    "                    validateFile = '../Processed_Data/DEEM_%s/kValidate.idxs' % sn\n",
    "                    dictKey = '%s-%s%s-%s-%s' % (sn, ks, bd[0], pn[0], kn[0])\n",
    "                    \n",
    "                    # Create directories\n",
    "                    subprocess.call(['mkdir', '-p', workDir])\n",
    "\n",
    "                    subprocess.call(['python', 'learningCurves.py',\n",
    "                                    '-structure', structureFile,\n",
    "                                    '-soap', dataFile,\n",
    "                                    '-idxs', idxsFile,\n",
    "                                    '-p', p,\n",
    "                                    '-Z', '14',\n",
    "                                    '-k', '5', \n",
    "                                    '-kernel', k,\n",
    "                                    '-width', '1.0', '3.0', '10.0', '100.0', \n",
    "                                              '300.0', '1000.0',\n",
    "                                    '-sigma', '1E-5', '3E-5', '1E-4', '3E-4', \n",
    "                                              '0.001', '0.003', '0.01', '0.03', \n",
    "                                              '0.1', '0.3', '1.0',\n",
    "                                    '-zeta', '1',\n",
    "                                    '-ntrain', mt,\n",
    "                                    '-train', trainFile,\n",
    "                                    '-validate', validateFile,\n",
    "                                    '-shuffle',\n",
    "                                    '-output', workDir])\n",
    "                    optParams = getMinIdx('%s/maeAvgTest.npy' % workDir)\n",
    "                    hypers[dictKey] = optParams                    \n",
    "\n",
    "parameterFile = open('hyperparameters.pkl', 'wb')\n",
    "pickle.dump(hypers, parameterFile)\n",
    "parameterFile.close()"
   ]
  },
  {
   "cell_type": "markdown",
   "metadata": {},
   "source": [
    "# Learning Curves"
   ]
  },
  {
   "cell_type": "markdown",
   "metadata": {},
   "source": [
    "## SOAP (done)"
   ]
  },
  {
   "cell_type": "code",
   "execution_count": 4,
   "metadata": {},
   "outputs": [
    {
     "name": "stdout",
     "output_type": "stream",
     "text": [
      "Current model: 1k 3.5 Energy Gaussian\n",
      "Current model: 1k 3.5 Energy Linear\n",
      "Current model: 1k 3.5 Volume Gaussian\n",
      "Current model: 1k 3.5 Volume Linear\n",
      "Current model: 1k 6.0 Energy Gaussian\n",
      "Current model: 1k 6.0 Energy Linear\n",
      "Current model: 1k 6.0 Volume Gaussian\n",
      "Current model: 1k 6.0 Volume Linear\n",
      "Current model: 10k 3.5 Energy Gaussian\n",
      "Current model: 10k 3.5 Energy Linear\n",
      "Current model: 10k 3.5 Volume Gaussian\n",
      "Current model: 10k 3.5 Volume Linear\n",
      "Current model: 10k 6.0 Energy Gaussian\n",
      "Current model: 10k 6.0 Energy Linear\n",
      "Current model: 10k 6.0 Volume Gaussian\n",
      "Current model: 10k 6.0 Volume Linear\n"
     ]
    }
   ],
   "source": [
    "for ss, sn in zip(sampleSizes, sampleNames):\n",
    "    for c in cutoffs:\n",
    "        for p, pn in zip(properties, propertyNames):\n",
    "            for k, kn in zip(kernels, kernelNames):\n",
    "                print 'Current model: %s %s %s %s' % (sn, c, pn, kn)\n",
    "                workDir = '../Processed_Data/DEEM_%s/%s/%s/%s' % (sn, pn, c, kn)\n",
    "                structureFile = '../Raw_Data/DEEM_%s.xyz' % ss\n",
    "                dataFile = '../Processed_Data/DEEM_%s/PCA/%s/SOAPFiles.dat' % (sn, c)\n",
    "                idxsFile = '../Processed_Data/DEEM_%s/PCA/%s/FPS-rSOAP.idxs' % (sn, c)\n",
    "                trainFile = '../Processed_Data/DEEM_%s/kTrain.idxs' % sn\n",
    "                validateFile = '../Processed_Data/DEEM_%s/kValidate.idxs' % sn\n",
    "                dictKey = '%s-SOAP%s-%s-%s' % (sn, c, pn[0], kn[0])\n",
    "                \n",
    "                # Create directories\n",
    "                subprocess.call(['mkdir', '-p', workDir])\n",
    "                \n",
    "                args = ['python', 'learningCurves.py',\n",
    "                        '-structure', structureFile,\n",
    "                        '-soap', dataFile,\n",
    "                        '-idxs', idxsFile,\n",
    "                        '-p', p,\n",
    "                        '-Z', '14',\n",
    "                        '-k', '5',\n",
    "                        '-kernel', k,\n",
    "                        '-width', str(hypers[dictKey][0]),\n",
    "                        '-sigma', str(hypers[dictKey][1]),\n",
    "                        '-zeta', '1',\n",
    "                        '-ntrain'] + trainPts[sn] + \\\n",
    "                        ['-train', trainFile,\n",
    "                        '-validate', validateFile,\n",
    "                        '-shuffle',\n",
    "                        '-output', workDir]\n",
    "                subprocess.call(args)"
   ]
  },
  {
   "cell_type": "markdown",
   "metadata": {},
   "source": [
    "## PCA (done)"
   ]
  },
  {
   "cell_type": "code",
   "execution_count": 7,
   "metadata": {},
   "outputs": [
    {
     "name": "stdout",
     "output_type": "stream",
     "text": [
      "Current model: 1k 3.5 Energy Gaussian\n",
      "Current model: 1k 3.5 Energy Linear\n",
      "Current model: 1k 3.5 Volume Gaussian\n",
      "Current model: 1k 3.5 Volume Linear\n",
      "Current model: 1k 6.0 Energy Gaussian\n",
      "Current model: 1k 6.0 Energy Linear\n",
      "Current model: 1k 6.0 Volume Gaussian\n",
      "Current model: 1k 6.0 Volume Linear\n",
      "Current model: 10k 3.5 Energy Gaussian\n",
      "Current model: 10k 3.5 Energy Linear\n",
      "Current model: 10k 3.5 Volume Gaussian\n",
      "Current model: 10k 3.5 Volume Linear\n",
      "Current model: 10k 6.0 Energy Gaussian\n",
      "Current model: 10k 6.0 Energy Linear\n",
      "Current model: 10k 6.0 Volume Gaussian\n",
      "Current model: 10k 6.0 Volume Linear\n"
     ]
    }
   ],
   "source": [
    "for ss, sn in zip(sampleSizes, sampleNames):\n",
    "    for c in cutoffs:\n",
    "        for p, pn in zip(properties, propertyNames):\n",
    "            for k, kn in zip(kernels, kernelNames):\n",
    "                print 'Current model: %s %s %s %s' % (sn, c, pn, kn)\n",
    "                workDir = '../Processed_Data/DEEM_%s/%s/%s/PCALearn/%s' % (sn, pn, c, kn)\n",
    "                structureFile = '../Raw_Data/DEEM_%s.xyz' % ss\n",
    "                dataFile = '../Processed_Data/DEEM_%s/PCA/%s/PCAFiles.dat' % (sn, c)\n",
    "                idxsFile = '../Processed_Data/DEEM_%s/PCA/%s/FPS-rPCA.idxs' % (sn, c)\n",
    "                trainFile = '../Processed_Data/DEEM_%s/kTrain.idxs' % sn\n",
    "                validateFile = '../Processed_Data/DEEM_%s/kValidate.idxs' % sn\n",
    "                dictKey = '%s-PCA%s-%s-%s' % (sn, c, pn[0], kn[0])\n",
    "                \n",
    "                # Create directories\n",
    "                subprocess.call(['mkdir', '-p', workDir])\n",
    "\n",
    "                args = ['python', 'learningCurves.py',\n",
    "                        '-structure', structureFile,\n",
    "                        '-soap', dataFile,\n",
    "                        '-idxs', idxsFile,\n",
    "                        '-p', p,\n",
    "                        '-Z', '14',\n",
    "                        '-k', '5',\n",
    "                        '-kernel', k,\n",
    "                        '-width', str(hypers[dictKey][0]),\n",
    "                        '-sigma', str(hypers[dictKey][1]),\n",
    "                        '-zeta', '1',\n",
    "                        '-ntrain'] + trainPts[sn] + \\\n",
    "                        ['-pcalearn'] + pcaPts[pn] + \\\n",
    "                        ['-train', trainFile,\n",
    "                        '-validate', validateFile,\n",
    "                        '-shuffle',\n",
    "                        '-output', workDir]\n",
    "                subprocess.call(args)"
   ]
  },
  {
   "cell_type": "markdown",
   "metadata": {},
   "source": [
    "## KPCA (done)"
   ]
  },
  {
   "cell_type": "code",
   "execution_count": 3,
   "metadata": {},
   "outputs": [
    {
     "name": "stdout",
     "output_type": "stream",
     "text": [
      "Current model: 1k 3.5 Energy Gaussian\n",
      "Current model: 1k 3.5 Energy Linear\n",
      "Current model: 1k 3.5 Volume Gaussian\n",
      "Current model: 1k 3.5 Volume Linear\n",
      "Current model: 1k 6.0 Energy Gaussian\n",
      "Current model: 1k 6.0 Energy Linear\n",
      "Current model: 1k 6.0 Volume Gaussian\n",
      "Current model: 1k 6.0 Volume Linear\n",
      "Current model: 10k 3.5 Energy Gaussian\n",
      "Current model: 10k 3.5 Energy Linear\n",
      "Current model: 10k 3.5 Volume Gaussian\n",
      "Current model: 10k 3.5 Volume Linear\n",
      "Current model: 10k 6.0 Energy Gaussian\n",
      "Current model: 10k 6.0 Energy Linear\n",
      "Current model: 10k 6.0 Volume Gaussian\n",
      "Current model: 10k 6.0 Volume Linear\n"
     ]
    }
   ],
   "source": [
    "for ss, sn in zip(sampleSizes, sampleNames):\n",
    "    for c in cutoffs:\n",
    "        for p, pn in zip(properties, propertyNames):\n",
    "            for k, kn in zip(kernels, kernelNames):\n",
    "                print 'Current model: %s %s %s %s' % (sn, c, pn, kn)\n",
    "                workDir = '../Processed_Data/DEEM_%s/%s/%s/KPCALearn/%s' % (sn, pn, c, kn)\n",
    "                structureFile = '../Raw_Data/DEEM_%s.xyz' % ss\n",
    "                dataFile = '../Processed_Data/DEEM_%s/PCA/%s/KPCAFiles.dat' % (sn, c)\n",
    "                idxsFile = '../Processed_Data/DEEM_%s/PCA/%s/FPS-rKPCA.idxs' % (sn, c)\n",
    "                trainFile = '../Processed_Data/DEEM_%s/kTrain.idxs' % sn\n",
    "                validateFile = '../Processed_Data/DEEM_%s/kValidate.idxs' % sn\n",
    "                dictKey = '%s-KPCA%s-%s-%s' % (sn, c, pn[0], kn[0])\n",
    "                \n",
    "                # Create directories\n",
    "                subprocess.call(['mkdir', '-p', workDir])\n",
    "\n",
    "                args = ['python', 'learningCurves.py',\n",
    "                        '-structure', structureFile,\n",
    "                        '-soap', dataFile,\n",
    "                        '-idxs', idxsFile,\n",
    "                        '-p', p,\n",
    "                        '-Z', '14',\n",
    "                        '-k', '5',\n",
    "                        '-kernel', k,\n",
    "                        '-width', str(hypers[dictKey][0]),\n",
    "                        '-sigma', str(hypers[dictKey][1]),\n",
    "                        '-zeta', '1',\n",
    "                        '-ntrain'] + trainPts[sn] + \\\n",
    "                        ['-pcalearn'] + pcaPts[pn] + \\\n",
    "                        ['-train', trainFile,\n",
    "                        '-validate', validateFile,\n",
    "                        '-shuffle',\n",
    "                        '-output', workDir]\n",
    "                subprocess.call(args)"
   ]
  },
  {
   "cell_type": "markdown",
   "metadata": {},
   "source": [
    "## Distances (done)"
   ]
  },
  {
   "cell_type": "code",
   "execution_count": 13,
   "metadata": {},
   "outputs": [
    {
     "name": "stdout",
     "output_type": "stream",
     "text": [
      "Current model: 1k Energy Gaussian\n",
      "Current model: 1k Energy Linear\n",
      "Current model: 1k Volume Gaussian\n",
      "Current model: 1k Volume Linear\n",
      "Current model: 10k Energy Gaussian\n",
      "Current model: 10k Energy Linear\n",
      "Current model: 10k Volume Gaussian\n",
      "Current model: 10k Volume Linear\n"
     ]
    }
   ],
   "source": [
    "for ss, sn in zip(sampleSizes, sampleNames):\n",
    "    for p, pn in zip(properties, propertyNames):\n",
    "        for k, kn in zip(kernels, kernelNames):\n",
    "            print 'Current model: %s %s %s' % (sn, pn, kn)\n",
    "            workDir = '../Processed_Data/DEEM_%s/%s/Distances/%s' % (sn, pn, kn)\n",
    "            structureFile = '../Raw_Data/DEEM_%s.xyz' % ss\n",
    "            dataFile = '../Processed_Data/DEEM_%s/Distances/distanceFiles.dat' % sn\n",
    "            idxsFile = '../Processed_Data/DEEM_%s/Distances/FPS-rDistances.idxs' % sn\n",
    "            trainFile = '../Processed_Data/DEEM_%s/kTrain.idxs' % sn\n",
    "            validateFile = '../Processed_Data/DEEM_%s/kValidate.idxs' % sn\n",
    "            dictKey = '%s-Dist-%s-%s' % (sn, pn[0], kn[0])\n",
    "            \n",
    "            # Create directories\n",
    "            subprocess.call(['mkdir', '-p', workDir])\n",
    "\n",
    "            args = ['python', 'learningCurves.py',\n",
    "                    '-structure', structureFile,\n",
    "                    '-soap', dataFile,\n",
    "                    '-idxs', idxsFile,\n",
    "                    '-p', p,\n",
    "                    '-Z', '14',\n",
    "                    '-k', '5',\n",
    "                    '-kernel', k,\n",
    "                    '-width', str(hypers[dictKey][0]),\n",
    "                    '-sigma', str(hypers[dictKey][1]),\n",
    "                    '-zeta', '1',\n",
    "                    '-ntrain'] + trainPts[sn] + \\\n",
    "                    ['-train', trainFile,\n",
    "                    '-validate', validateFile,\n",
    "                    '-shuffle',\n",
    "                    '-output', workDir]             \n",
    "            subprocess.call(args)"
   ]
  },
  {
   "cell_type": "markdown",
   "metadata": {},
   "source": [
    "## Angles (done)"
   ]
  },
  {
   "cell_type": "code",
   "execution_count": 15,
   "metadata": {},
   "outputs": [
    {
     "name": "stdout",
     "output_type": "stream",
     "text": [
      "Current model: 1k Energy Gaussian\n",
      "Current model: 1k Energy Linear\n",
      "Current model: 1k Volume Gaussian\n",
      "Current model: 1k Volume Linear\n",
      "Current model: 10k Energy Gaussian\n",
      "Current model: 10k Energy Linear\n",
      "Current model: 10k Volume Gaussian\n",
      "Current model: 10k Volume Linear\n"
     ]
    }
   ],
   "source": [
    "for ss, sn in zip(sampleSizes, sampleNames):\n",
    "    for p, pn in zip(properties, propertyNames):\n",
    "        for k, kn in zip(kernels, kernelNames):\n",
    "            print 'Current model: %s %s %s' % (sn, pn, kn)\n",
    "            workDir = '../Processed_Data/DEEM_%s/%s/Angles/%s' % (sn, pn, kn)\n",
    "            structureFile = '../Raw_Data/DEEM_%s.xyz' % ss\n",
    "            dataFile = '../Processed_Data/DEEM_%s/Angles/angleFiles.dat' % sn\n",
    "            idxsFile = '../Processed_Data/DEEM_%s/Angles/FPS-rAngles.idxs' % sn\n",
    "            trainFile = '../Processed_Data/DEEM_%s/kTrain.idxs' % sn\n",
    "            validateFile = '../Processed_Data/DEEM_%s/kValidate.idxs' % sn\n",
    "            dictKey = '%s-Ang-%s-%s' % (sn, pn[0], kn[0])\n",
    "            \n",
    "            # Create directories\n",
    "            subprocess.call(['mkdir', '-p', workDir])\n",
    "\n",
    "            args = ['python', 'learningCurves.py',\n",
    "                    '-structure', structureFile,\n",
    "                    '-soap', dataFile,\n",
    "                    '-idxs', idxsFile,\n",
    "                    '-p', p,\n",
    "                    '-Z', '14',\n",
    "                    '-k', '5',\n",
    "                    '-kernel', k,\n",
    "                    '-width', str(hypers[dictKey][0]),\n",
    "                    '-sigma', str(hypers[dictKey][1]),\n",
    "                    '-zeta', '1',\n",
    "                    '-ntrain'] + trainPts[sn] + \\\n",
    "                    ['-train', trainFile,\n",
    "                    '-validate', validateFile,\n",
    "                    '-shuffle',\n",
    "                    '-output', workDir]\n",
    "            subprocess.call(args)"
   ]
  },
  {
   "cell_type": "markdown",
   "metadata": {},
   "source": [
    "## Rings (done)"
   ]
  },
  {
   "cell_type": "code",
   "execution_count": 17,
   "metadata": {},
   "outputs": [
    {
     "name": "stdout",
     "output_type": "stream",
     "text": [
      "Current model: 1k Energy King Binary Gaussian\n",
      "Current model: 1k Energy King Binary Linear\n",
      "Current model: 1k Energy King Distribution Gaussian\n",
      "Current model: 1k Energy King Distribution Linear\n",
      "Current model: 1k Energy Short Binary Gaussian\n",
      "Current model: 1k Energy Short Binary Linear\n",
      "Current model: 1k Energy Short Distribution Gaussian\n",
      "Current model: 1k Energy Short Distribution Linear\n",
      "Current model: 1k Volume King Binary Gaussian\n",
      "Current model: 1k Volume King Binary Linear\n",
      "Current model: 1k Volume King Distribution Gaussian\n",
      "Current model: 1k Volume King Distribution Linear\n",
      "Current model: 1k Volume Short Binary Gaussian\n",
      "Current model: 1k Volume Short Binary Linear\n",
      "Current model: 1k Volume Short Distribution Gaussian\n",
      "Current model: 1k Volume Short Distribution Linear\n",
      "Current model: 10k Energy King Binary Gaussian\n",
      "Current model: 10k Energy King Binary Linear\n",
      "Current model: 10k Energy King Distribution Gaussian\n",
      "Current model: 10k Energy King Distribution Linear\n",
      "Current model: 10k Energy Short Binary Gaussian\n",
      "Current model: 10k Energy Short Binary Linear\n",
      "Current model: 10k Energy Short Distribution Gaussian\n",
      "Current model: 10k Energy Short Distribution Linear\n",
      "Current model: 10k Volume King Binary Gaussian\n",
      "Current model: 10k Volume King Binary Linear\n",
      "Current model: 10k Volume King Distribution Gaussian\n",
      "Current model: 10k Volume King Distribution Linear\n",
      "Current model: 10k Volume Short Binary Gaussian\n",
      "Current model: 10k Volume Short Binary Linear\n",
      "Current model: 10k Volume Short Distribution Gaussian\n",
      "Current model: 10k Volume Short Distribution Linear\n"
     ]
    }
   ],
   "source": [
    "for ss, sn in zip(sampleSizes, sampleNames):\n",
    "    for p, pn in zip(properties, propertyNames):\n",
    "        for ks in ['King', 'Short']:\n",
    "            for bd in ['Binary', 'Distribution']:\n",
    "                for k, kn in zip(kernels, kernelNames):\n",
    "                    print 'Current model: %s %s %s %s %s' % (sn, pn, ks, bd, kn)\n",
    "                    workDir = '../Processed_Data/DEEM_%s/%s/Rings/%s/%s/%s' % (sn, pn, ks, bd, kn)\n",
    "                    structureFile = '../Raw_Data/DEEM_%s.xyz' % ss\n",
    "                    dataFile = '../Processed_Data/DEEM_%s/Rings/%s/%s/ringFiles.dat' % (sn, ks, bd)\n",
    "                    idxsFile = '../Processed_Data/DEEM_%s/Rings/%s/%s/FPS-rRings.idxs' % (sn, ks, bd)\n",
    "                    trainFile = '../Processed_Data/DEEM_%s/kTrain.idxs' % sn\n",
    "                    validateFile = '../Processed_Data/DEEM_%s/kValidate.idxs' % sn\n",
    "                    dictKey = '%s-%s%s-%s-%s' % (sn, ks, bd[0], pn[0], kn[0])\n",
    "                    \n",
    "                    # Create directories\n",
    "                    subprocess.call(['mkdir', '-p', workDir])\n",
    "\n",
    "                    args = ['python', 'learningCurves.py',\n",
    "                            '-structure', structureFile,\n",
    "                            '-soap', dataFile,\n",
    "                            '-idxs', idxsFile,\n",
    "                            '-p', p,\n",
    "                            '-Z', '14',\n",
    "                            '-k', '5',\n",
    "                            '-kernel', k,\n",
    "                            '-width', str(hypers[dictKey][0]),\n",
    "                            '-sigma', str(hypers[dictKey][1]),\n",
    "                            '-zeta', '1',\n",
    "                            '-ntrain'] + trainPts[sn] + \\\n",
    "                            ['-train', trainFile,\n",
    "                            '-validate', validateFile,\n",
    "                            '-shuffle',\n",
    "                            '-output', workDir]\n",
    "                    subprocess.call(args)"
   ]
  },
  {
   "cell_type": "code",
   "execution_count": null,
   "metadata": {},
   "outputs": [],
   "source": [
    "# Concatenate the KPCA for the Atlas\n",
    "f = open('../Processed_Data/DEEM_10k/PCA/6.0/kpca3.dat', 'w')\n",
    "a = subprocess.Popen(['python', 'npyConvert.py',\n",
    "                 '-soap ../Processed_Data/DEEM_10k/PCA/6.0/KPCAFiles.dat',\n",
    "                 '-convert', 'stdout'], stdout=subprocess.PIPE)\n",
    "b = subprocess.Popen(['awk', \"{print $1, $2, $3}\"], stdin=a.stdout, stdout=f)\n",
    "\n",
    "# Wait for a long time to make sure the file gets filled before we close it\n",
    "time.sleep(300)\n",
    "\n",
    "f.close()"
   ]
  },
  {
   "cell_type": "code",
   "execution_count": null,
   "metadata": {},
   "outputs": [],
   "source": [
    "# Concatenate environment properties for the Atlas\n",
    "# Figure out how many batches we have\n",
    "n_batches = 0\n",
    "with open('../Processed_Data/DEEM_10k/PCA/6.0/KPCAFiles.dat', 'r') as f:\n",
    "    for line in f:\n",
    "        n_batches += 1\n",
    "\n",
    "energies = []\n",
    "volumes = []\n",
    "for i in range(0, n_batches):\n",
    "    energies.append(np.loadtxt('../Processed_Data/DEEM_10k/Energy/6.0/Gaussian/envProperties-%d.dat' % i))\n",
    "    volumes.append(np.loadtxt('../Processed_Data/DEEM_10k/Volume/6.0/Gaussian/envProperties-%d.dat' % i))\n",
    "\n",
    "# Save the concatenated environment properties\n",
    "np.savetxt('../Processed_Data/DEEM_10k/Energy/6.0/Gaussian/envProperties.dat', np.concatentate(energies))\n",
    "np.savetxt('../Processed_Data/DEEM_10k/Volume/6.0/Gaussian/envProperties.dat', np.concatenate(volumes))"
   ]
  },
  {
   "cell_type": "markdown",
   "metadata": {},
   "source": [
    "# Property Decomposition"
   ]
  },
  {
   "cell_type": "markdown",
   "metadata": {},
   "source": [
    "## SOAP (done)"
   ]
  },
  {
   "cell_type": "code",
   "execution_count": 13,
   "metadata": {},
   "outputs": [
    {
     "name": "stdout",
     "output_type": "stream",
     "text": [
      "Current model: 1k 3.5 Energy Gaussian\n",
      "Current model: 1k 3.5 Energy Linear\n",
      "Current model: 1k 3.5 Volume Gaussian\n",
      "Current model: 1k 3.5 Volume Linear\n",
      "Current model: 1k 6.0 Energy Gaussian\n",
      "Current model: 1k 6.0 Energy Linear\n",
      "Current model: 1k 6.0 Volume Gaussian\n",
      "Current model: 1k 6.0 Volume Linear\n",
      "Current model: 10k 3.5 Energy Gaussian\n",
      "Current model: 10k 3.5 Energy Linear\n",
      "Current model: 10k 3.5 Volume Gaussian\n",
      "Current model: 10k 3.5 Volume Linear\n",
      "Current model: 10k 6.0 Energy Gaussian\n",
      "Current model: 10k 6.0 Energy Linear\n",
      "Current model: 10k 6.0 Volume Gaussian\n",
      "Current model: 10k 6.0 Volume Linear\n"
     ]
    }
   ],
   "source": [
    "for ss, sn in zip(sampleSizes, sampleNames):\n",
    "    for c in cutoffs:\n",
    "        for p, pn in zip(properties, propertyNames):\n",
    "            for k, kn in zip(kernels, kernelNames):\n",
    "                print 'Current model: %s %s %s %s' % (sn, c, pn, kn)\n",
    "                workDir = '../Processed_Data/DEEM_%s/%s/%s/%s' % (sn, pn, c, kn)\n",
    "                structureFile = '../Raw_Data/DEEM_%s.xyz' % ss\n",
    "                dataFile = '../Processed_Data/DEEM_%s/PCA/%s/SOAPFiles.dat' % (sn, c)\n",
    "                idxsFile = '../Processed_Data/DEEM_%s/PCA/%s/FPS-rSOAP.idxs' % (sn, c)\n",
    "                dictKey = '%s-SOAP%s-%s-%s' % (sn, c, pn[0], kn[0])\n",
    "                \n",
    "                # Create directories\n",
    "                subprocess.call(['mkdir', '-p', workDir])\n",
    "\n",
    "                subprocess.call(['python', 'propertyRegression.py',\n",
    "                                '-structure', structureFile,\n",
    "                                '-soap', dataFile,\n",
    "                                '-idxs', idxsFile,\n",
    "                                '-p', p, \n",
    "                                '-Z', '14',\n",
    "                                '-k', k,\n",
    "                                '-width', str(hypers[dictKey][0]),\n",
    "                                '-sigma', str(hypers[dictKey][1]),\n",
    "                                '-zeta', '1',\n",
    "                                '-ntrain', ss,\n",
    "                                '-env',\n",
    "                                '-lowmem',\n",
    "                                '-output', workDir])"
   ]
  },
  {
   "cell_type": "markdown",
   "metadata": {},
   "source": [
    "# Selecting Scatter Plot Environments"
   ]
  },
  {
   "cell_type": "markdown",
   "metadata": {},
   "source": [
    "## 1k sample"
   ]
  },
  {
   "cell_type": "code",
   "execution_count": 31,
   "metadata": {},
   "outputs": [
    {
     "data": {
      "text/plain": [
       "0"
      ]
     },
     "execution_count": 31,
     "metadata": {},
     "output_type": "execute_result"
    }
   ],
   "source": [
    "# Extract SOAP environment atoms (done)\n",
    "subprocess.call(['python', 'atomLabels.py',\n",
    "                '-input', '../Raw_Data/DEEM_1000.xyz',\n",
    "                '-output', '../Processed_Data/DEEM_1k/atoms.dat',\n",
    "                '-Z', '14',\n",
    "                '-sp', 'Energy_per_Si', 'Filename'])"
   ]
  },
  {
   "cell_type": "code",
   "execution_count": 49,
   "metadata": {},
   "outputs": [
    {
     "name": "stdout",
     "output_type": "stream",
     "text": [
      "===== Low volume =====\n",
      "Env. index:  15118\n",
      "Env. volume:  31.192225804586315\n",
      "Structure:  8147958.cif\n",
      "Atom:  27\n",
      "Atom in 3x3x3:  573\n",
      "\n",
      "===== Median volume =====\n",
      "Env. index:  25610\n",
      "Env. volume:  51.15067096662824\n",
      "Structure:  8216475.cif\n",
      "Atom:  14\n",
      "Atom in 3x3x3:  638\n",
      "\n",
      "===== High volume =====\n",
      "Env. index:  52051\n",
      "Env. volume:  83.41127390215092\n",
      "Structure:  8329015.cif\n",
      "Atom:  117\n",
      "Atom in 3x3x3:  741\n",
      "\n",
      "===== Low energy =====\n",
      "Env. index:  52156\n",
      "Env. energy:  -54.702937507870956\n",
      "Structure:  8329346.cif\n",
      "Atom:  102\n",
      "Atom in 3x3x3:  726\n",
      "\n",
      "===== Median energy =====\n",
      "Env. index:  32114\n",
      "Env. energy:  -2.209387672424782\n",
      "Structure:  8256857.cif\n",
      "Atom:  70\n",
      "Atom in 3x3x3:  616\n",
      "\n",
      "===== High energy =====\n",
      "Env. index:  52122\n",
      "Env. energy:  87.07721357131959\n",
      "Structure:  8329346.cif\n",
      "Atom:  68\n",
      "Atom in 3x3x3:  692\n",
      "\n"
     ]
    }
   ],
   "source": [
    "volP = np.loadtxt('../Processed_Data/DEEM_1k/Volume/6.0/Gaussian/envProperties-0.dat')\n",
    "eP = np.loadtxt('../Processed_Data/DEEM_1k/Energy/6.0/Gaussian/envProperties-0.dat')\n",
    "\n",
    "# Read DEEM xyz file\n",
    "structure = aseIO.read('../Raw_Data/DEEM_1000.xyz', index=':')\n",
    "\n",
    "# Replication tuple\n",
    "r = (3, 3, 3)\n",
    "\n",
    "# Sort properties to find \"interesting\" examples\n",
    "volIdxs = np.argsort(volP)\n",
    "eIdxs = np.argsort(eP)\n",
    "\n",
    "low = 0\n",
    "med = int(0.5*volP.size) # Volume and energy sizes are equal\n",
    "high = -1\n",
    "\n",
    "# Pick highest, median, and lowest property value environments\n",
    "# and find the corresponding Si atoms\n",
    "for x, xx, label in zip([volIdxs, eIdxs], [volP, eP], ['volume', 'energy']):\n",
    "    for v, vv in zip([low, med, high], ['Low', 'Median', 'High']):\n",
    "        \n",
    "        # Read the atoms data\n",
    "        h = subprocess.Popen(['head', '-%d' % (x[v]+1), '../Processed_Data/DEEM_1k/atoms.dat'], \n",
    "                              stdout=subprocess.PIPE)\n",
    "        t = subprocess.Popen(['tail', '-1'], stdin=h.stdout, stdout=subprocess.PIPE)\n",
    "        s = (t.communicate()[0]).strip().split()\n",
    "        \n",
    "        # Get the structure with the \"interesting\" environment\n",
    "        subStructure = structure[int(s[7])]\n",
    "        \n",
    "        # Replicate the unit cell and find the atom index\n",
    "        # in the middle of the replicated structure\n",
    "        subStructueR = subStructure.repeat(r)\n",
    "        newAtom = r[0]*r[1]*(r[2]/2) + r[0]*(r[1]/2) + r[0]/2\n",
    "        newAtom *= len(subStructure)\n",
    "        newAtom += int(s[1])\n",
    "        \n",
    "        print \"===== %s %s =====\" % (vv, label)\n",
    "        print \"Env. index: \", x[v]\n",
    "        print \"Env. %s: \" % label, xx[x[v]]\n",
    "        print \"Structure: \", s[-1]\n",
    "        print \"Atom: \", s[1]\n",
    "        print \"Atom in 3x3x3: \", newAtom\n",
    "        print \"\""
   ]
  },
  {
   "cell_type": "markdown",
   "metadata": {},
   "source": [
    "## 10k sample"
   ]
  },
  {
   "cell_type": "code",
   "execution_count": null,
   "metadata": {},
   "outputs": [],
   "source": [
    "# Create directories\n",
    "subprocess.call(['mkdir', '-p', '../Processed_Data/DEEM_10k/Environments'])"
   ]
  },
  {
   "cell_type": "code",
   "execution_count": 32,
   "metadata": {},
   "outputs": [
    {
     "data": {
      "text/plain": [
       "0"
      ]
     },
     "execution_count": 32,
     "metadata": {},
     "output_type": "execute_result"
    }
   ],
   "source": [
    "# Extract SOAP environment atoms (done)\n",
    "subprocess.call(['python', 'atomLabels.py',\n",
    "                '-input', '../Raw_Data/DEEM_10000.xyz',\n",
    "                '-output', '../Processed_Data/DEEM_10k/atoms.dat',\n",
    "                '-Z', '14',\n",
    "                '-sp', 'Energy_per_Si', 'Filename'])"
   ]
  },
  {
   "cell_type": "code",
   "execution_count": 53,
   "metadata": {},
   "outputs": [
    {
     "name": "stdout",
     "output_type": "stream",
     "text": [
      "===== Low volume =====\n",
      "Env. index:  416603\n",
      "Env. volume:  23.78370619290581\n",
      "Structure:  8285921.cif\n",
      "Atom:  8\n",
      "Atom in 3x3x3:  2192\n",
      "\n",
      "===== Median volume =====\n",
      "Env. index:  374965\n",
      "Env. volume:  50.84192005263321\n",
      "Structure:  8272545.cif\n",
      "Atom:  58\n",
      "Atom in 3x3x3:  4114\n",
      "\n",
      "===== High volume =====\n",
      "Env. index:  464212\n",
      "Env. volume:  96.79278244932357\n",
      "Structure:  8302881.cif\n",
      "Atom:  33\n",
      "Atom in 3x3x3:  2217\n",
      "\n",
      "===== Low energy =====\n",
      "Env. index:  491415\n",
      "Env. energy:  -34.36726024466043\n",
      "Structure:  8315425.cif\n",
      "Atom:  32\n",
      "Atom in 3x3x3:  2060\n",
      "\n",
      "===== Median energy =====\n",
      "Env. index:  236960\n",
      "Env. energy:  -1.7357425685913768\n",
      "Structure:  8199745.cif\n",
      "Atom:  45\n",
      "Atom in 3x3x3:  2229\n",
      "\n",
      "===== High energy =====\n",
      "Env. index:  380545\n",
      "Env. energy:  386.01503800861246\n",
      "Structure:  8274753.cif\n",
      "Atom:  32\n",
      "Atom in 3x3x3:  2294\n",
      "\n"
     ]
    }
   ],
   "source": [
    "volP = []\n",
    "eP = []\n",
    "\n",
    "# Read DEEM xyz file\n",
    "structure = aseIO.read('../Raw_Data/DEEM_10000.xyz', index=':')\n",
    "\n",
    "# Replication tuple\n",
    "r = (3, 3, 3)\n",
    "\n",
    "# Read property data\n",
    "# We have 10 batches\n",
    "nBatches = 10\n",
    "for i in range(0, nBatches):\n",
    "    volPi = np.loadtxt('../Processed_Data/DEEM_10k/Volume/6.0/Gaussian/envProperties-%d.dat' % i)\n",
    "    ePi = np.loadtxt('../Processed_Data/DEEM_10k/Energy/6.0/Gaussian/envProperties-%d.dat' % i)\n",
    "    volP.append(volPi)\n",
    "    eP.append(ePi)\n",
    "\n",
    "volP = np.concatenate(volP)\n",
    "eP = np.concatenate(eP)\n",
    "\n",
    "# Sort properties to find \"interesting\" examples\n",
    "volIdxs = np.argsort(volP)\n",
    "eIdxs = np.argsort(eP)\n",
    "\n",
    "low = 0\n",
    "med = int(0.5*volP.size) # Volume and energy sizes are equal\n",
    "high = -1\n",
    "\n",
    "# Pick highest, median, and lowest property value environments\n",
    "# and find the corresponding Si atoms\n",
    "for x, xx, label in zip([volIdxs, eIdxs], [volP, eP], ['volume', 'energy']):\n",
    "    for v, vv in zip([low, med, high], ['Low', 'Median', 'High']):\n",
    "        \n",
    "        # Read the atoms data\n",
    "        h = subprocess.Popen(['head', '-%d' % (x[v]+1), '../Processed_Data/DEEM_10k/atoms.dat'], \n",
    "                              stdout=subprocess.PIPE)\n",
    "        t = subprocess.Popen(['tail', '-1'], stdin=h.stdout, stdout=subprocess.PIPE)\n",
    "        s = (t.communicate()[0]).strip().split()\n",
    "        \n",
    "        # Get the structure with the \"interesting\" environment\n",
    "        subStructure = structure[int(s[7])]\n",
    "        \n",
    "        # Replicate the unit cell and find the atom index\n",
    "        # in the middle of the replicated structure\n",
    "        subStructureR = subStructure.repeat(r)\n",
    "        newAtom = r[0]*r[1]*(r[2]/2) + r[0]*(r[1]/2) + r[0]/2\n",
    "        newAtom *= len(subStructure)\n",
    "        newAtom += int(s[1])\n",
    "        \n",
    "        # Save the replicated structure for further analysis\n",
    "        aseIO.write('../Processed_Data/DEEM_10k/Environments/%s_%dx%dx%d.xyz' % (os.path.splitext(s[-1])[0],\n",
    "                    r[0], r[1], r[2]), subStructureR, format='extxyz')\n",
    "        \n",
    "        print \"===== %s %s =====\" % (vv, label)\n",
    "        print \"Env. index: \", x[v]\n",
    "        print \"Env. %s: \" % label, xx[x[v]]\n",
    "        print \"Structure: \", s[-1]\n",
    "        print \"Atom: \", s[1]\n",
    "        print \"Atom in 3x3x3: \", newAtom\n",
    "        print \"\""
   ]
  }
 ],
 "metadata": {
  "kernelspec": {
   "display_name": "Python 2",
   "language": "python",
   "name": "python2"
  },
  "language_info": {
   "codemirror_mode": {
    "name": "ipython",
    "version": 2
   },
   "file_extension": ".py",
   "mimetype": "text/x-python",
   "name": "python",
   "nbconvert_exporter": "python",
   "pygments_lexer": "ipython2",
   "version": "2.7.15+"
  }
 },
 "nbformat": 4,
 "nbformat_minor": 2
}
